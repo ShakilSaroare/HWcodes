{
 "cells": [
  {
   "cell_type": "markdown",
   "metadata": {},
   "source": [
    "# Golam Saroare Shakil-011577991\n",
    "# Assignment 4\n",
    "# EconS 512"
   ]
  },
  {
   "cell_type": "code",
   "execution_count": 1,
   "metadata": {},
   "outputs": [
    {
     "data": {
      "text/html": [
       "<table>\n",
       "<tbody>\n",
       "\t<tr><th scope=row>intercept</th><td>5.037536</td></tr>\n",
       "\t<tr><th scope=row>t</th><td>1.985286</td></tr>\n",
       "</tbody>\n",
       "</table>\n"
      ],
      "text/latex": [
       "\\begin{tabular}{r|l}\n",
       "\tintercept & 5.037536\\\\\n",
       "\tt & 1.985286\\\\\n",
       "\\end{tabular}\n"
      ],
      "text/markdown": [
       "\n",
       "| intercept | 5.037536 | \n",
       "| t | 1.985286 | \n",
       "\n",
       "\n"
      ],
      "text/plain": [
       "          [,1]    \n",
       "intercept 5.037536\n",
       "t         1.985286"
      ]
     },
     "metadata": {},
     "output_type": "display_data"
    }
   ],
   "source": [
    "#Problem1\n",
    "set.seed(100)\n",
    "t<-runif(1000)  #Generating 1000 uniform random variable from [0,1]\n",
    "intercept<-rep(1,n=length(t))  \n",
    "x<-as.matrix(data.frame(cbind(intercept,t)))\n",
    "u<-rnorm(1000)  #Generating 1000 Normmal random variable with mean 0 and standard deviation 1\n",
    "beta<-c(5,2)    #My choice of parameters\n",
    "y<-beta[1]+beta[2]*t+u\n",
    "beta.est<-solve(t(x)%*%x)%*%(t(x)%*%y)  #Parameter estimate for Regression of Y on T \n",
    "beta.est"
   ]
  },
  {
   "cell_type": "markdown",
   "metadata": {},
   "source": [
    "I generated 1000 uniform random variable from [0,1] as T 1000 standard normal variable as u. I choose $\\beta_{0}=5$ and $\\beta_{1}=2$. The OLS estimated coefficient for T is 1.985 which is close to the original parameter 2."
   ]
  },
  {
   "cell_type": "code",
   "execution_count": 2,
   "metadata": {},
   "outputs": [
    {
     "data": {
      "text/html": [
       "<table>\n",
       "<thead><tr><th scope=col>OLS estimate</th><th scope=col>Closed-form estimate</th></tr></thead>\n",
       "<tbody>\n",
       "\t<tr><td>1.309512</td><td>1.347162</td></tr>\n",
       "</tbody>\n",
       "</table>\n"
      ],
      "text/latex": [
       "\\begin{tabular}{r|ll}\n",
       " OLS estimate & Closed-form estimate\\\\\n",
       "\\hline\n",
       "\t 1.309512 & 1.347162\\\\\n",
       "\\end{tabular}\n"
      ],
      "text/markdown": [
       "\n",
       "OLS estimate | Closed-form estimate | \n",
       "|---|\n",
       "| 1.309512 | 1.347162 | \n",
       "\n",
       "\n"
      ],
      "text/plain": [
       "  OLS estimate Closed-form estimate\n",
       "1 1.309512     1.347162            "
      ]
     },
     "metadata": {},
     "output_type": "display_data"
    }
   ],
   "source": [
    "set.seed(100)\n",
    "tau1<-t+rnorm(1000,0,0.2)   #Generating 1000 Normmal random variable with mean 0 and standard deviation 2\n",
    "tau2<-t+rnorm(1000,0,0.3)  #Generating 1000 Normmal random variable with mean 0 and standard deviation 3\n",
    "x1<-as.matrix(data.frame(cbind(intercept,tau1)))\n",
    "beta.est1<-solve(t(x1)%*%x1)%*%(t(x1)%*%y)  #Parameter estimate for Regression of Y on Tau.1\n",
    "beta.est_c<-beta[2]*(var(t)/(var(t)+0.04))\n",
    "result<-data.frame(cbind(beta.est1[2],beta.est_c))\n",
    "names(result)<-c(\"OLS estimate\",\"Closed-form estimate\")\n",
    "result"
   ]
  },
  {
   "cell_type": "markdown",
   "metadata": {},
   "source": [
    "Again, I generated 1000 normal random variable for each $\\tau_{1}$ and $\\tau_{2}$ with 0 mean and standard deviation 0.2 and 0.3 respectively. As we can see from the result, the OLS estimate is very close the closed form estimate. "
   ]
  },
  {
   "cell_type": "code",
   "execution_count": 3,
   "metadata": {},
   "outputs": [
    {
     "data": {
      "text/html": [
       "<table>\n",
       "<tbody>\n",
       "\t<tr><th scope=row>intercept</th><td>5.047273</td></tr>\n",
       "\t<tr><th scope=row>tau1</th><td>1.953816</td></tr>\n",
       "</tbody>\n",
       "</table>\n"
      ],
      "text/latex": [
       "\\begin{tabular}{r|l}\n",
       "\tintercept & 5.047273\\\\\n",
       "\ttau1 & 1.953816\\\\\n",
       "\\end{tabular}\n"
      ],
      "text/markdown": [
       "\n",
       "| intercept | 5.047273 | \n",
       "| tau1 | 1.953816 | \n",
       "\n",
       "\n"
      ],
      "text/plain": [
       "          [,1]    \n",
       "intercept 5.047273\n",
       "tau1      1.953816"
      ]
     },
     "metadata": {},
     "output_type": "display_data"
    }
   ],
   "source": [
    "x2<-as.matrix(data.frame(cbind(intercept,tau2)))\n",
    "iv.est<-solve(t(x2)%*%x1)%*%(t(x2)%*%y) #GMM estimate of IV\n",
    "iv.est"
   ]
  },
  {
   "cell_type": "markdown",
   "metadata": {},
   "source": [
    "Here, we used the GMM estimate of IV: $\\beta_{IV}=(Z'X)^{-1}(Z'Y)$. We used $\\tau_{2}$ as an instrument for $\\tau_{1}$. The GMM estimate of $\\beta_{1}$ is 1.95, which is close to our original parameter."
   ]
  },
  {
   "cell_type": "code",
   "execution_count": 18,
   "metadata": {},
   "outputs": [
    {
     "data": {
      "text/html": [
       "<table>\n",
       "<thead><tr><th></th><th scope=col>Lower limit</th><th scope=col>Upper limit</th></tr></thead>\n",
       "<tbody>\n",
       "\t<tr><th scope=row>CI- OLS Est</th><td>-0.08100386</td><td>-0.02249132</td></tr>\n",
       "</tbody>\n",
       "</table>\n"
      ],
      "text/latex": [
       "\\begin{tabular}{r|ll}\n",
       "  & Lower limit & Upper limit\\\\\n",
       "\\hline\n",
       "\tCI- OLS Est & -0.08100386 & -0.02249132\\\\\n",
       "\\end{tabular}\n"
      ],
      "text/markdown": [
       "\n",
       "| <!--/--> | Lower limit | Upper limit | \n",
       "|---|\n",
       "| CI- OLS Est | -0.08100386 | -0.02249132 | \n",
       "\n",
       "\n"
      ],
      "text/plain": [
       "            Lower limit Upper limit\n",
       "CI- OLS Est -0.08100386 -0.02249132"
      ]
     },
     "metadata": {},
     "output_type": "display_data"
    },
    {
     "data": {
      "text/html": [
       "<table>\n",
       "<tbody>\n",
       "\t<tr><th scope=row>intrcpt</th><td> 4.47802507</td></tr>\n",
       "\t<tr><th scope=row>pctinsclnxtyr</th><td>-0.05174759</td></tr>\n",
       "\t<tr><th scope=row>mhighgrad</th><td> 1.70575780</td></tr>\n",
       "\t<tr><th scope=row>msomcol</th><td> 1.65431451</td></tr>\n",
       "\t<tr><th scope=row>fhighgrad</th><td> 2.04786694</td></tr>\n",
       "\t<tr><th scope=row>fsomcol</th><td>-0.69472874</td></tr>\n",
       "\t<tr><th scope=row>parincome</th><td> 0.01560051</td></tr>\n",
       "\t<tr><th scope=row>afqt</th><td> 0.02546164</td></tr>\n",
       "</tbody>\n",
       "</table>\n"
      ],
      "text/latex": [
       "\\begin{tabular}{r|l}\n",
       "\tintrcpt &  4.47802507\\\\\n",
       "\tpctinsclnxtyr & -0.05174759\\\\\n",
       "\tmhighgrad &  1.70575780\\\\\n",
       "\tmsomcol &  1.65431451\\\\\n",
       "\tfhighgrad &  2.04786694\\\\\n",
       "\tfsomcol & -0.69472874\\\\\n",
       "\tparincome &  0.01560051\\\\\n",
       "\tafqt &  0.02546164\\\\\n",
       "\\end{tabular}\n"
      ],
      "text/markdown": [
       "\n",
       "| intrcpt |  4.47802507 | \n",
       "| pctinsclnxtyr | -0.05174759 | \n",
       "| mhighgrad |  1.70575780 | \n",
       "| msomcol |  1.65431451 | \n",
       "| fhighgrad |  2.04786694 | \n",
       "| fsomcol | -0.69472874 | \n",
       "| parincome |  0.01560051 | \n",
       "| afqt |  0.02546164 | \n",
       "\n",
       "\n"
      ],
      "text/plain": [
       "              [,1]       \n",
       "intrcpt        4.47802507\n",
       "pctinsclnxtyr -0.05174759\n",
       "mhighgrad      1.70575780\n",
       "msomcol        1.65431451\n",
       "fhighgrad      2.04786694\n",
       "fsomcol       -0.69472874\n",
       "parincome      0.01560051\n",
       "afqt           0.02546164"
      ]
     },
     "metadata": {},
     "output_type": "display_data"
    }
   ],
   "source": [
    "#Problem2\n",
    "dat<-read.csv(\"midterm.csv\",header=T)\n",
    "names(dat)[1]<-\"pubid\"\n",
    "dat<-na.omit(dat)\n",
    "intrcpt<-rep(1,dim(dat)[1])\n",
    "x<-as.matrix(cbind(intrcpt,pctinsclnxtyr=dat[,\"pct_insclnxtyr\"],mhighgrad=dat[,\"mhighgrad\"],msomcol=dat[,\"msomcol\"],\n",
    "                   fhighgrad=dat[,\"fhighgrad\"],fsomcol=dat[,\"fsomcol\"],parincome=dat[,\"parincome\"],afqt=dat[,\"afqt\"]))\n",
    "y<-dat[,\"dayssmklm17\"]\n",
    "beta<-solve(t(x)%*%x)%*%(t(x)%*%y) #OLS estimation\n",
    "res<-y-x%*%beta\n",
    "sigma<-matrix(rep(0,dim(x)[1]*dim(x)[1]),nrow=dim(x)[1],ncol=dim(x)[1]) #Variance-Covariance structure: Assuming \n",
    "                                                                           #independence but non-identical \n",
    "for (i in 1:dim(x)[1]){\n",
    "    for (j in 1:dim(x)[1]){\n",
    "        if (i==j)sigma[i,j]<-res[i]^2\n",
    "    }\n",
    "}\n",
    "covmat<-solve(t(x)%*%x)%*%t(x)%*%sigma%*%x%*%solve(t(x)%*%x) #Robust standard error estimation \n",
    "ci_up<-beta[2]+sqrt(covmat[2,2])*1.96\n",
    "ci_low<-beta[2]-sqrt(covmat[2,2])*1.96\n",
    "ci<-data.frame(cbind(ci_low,ci_up))     #Confidence interval for \"pctinsclnxtyr\"\n",
    "names(ci)=c(\"Lower limit\",\"Upper limit\")\n",
    "row.names(ci)<-\"CI- OLS Est\"\n",
    "ci\n",
    "beta"
   ]
  },
  {
   "cell_type": "code",
   "execution_count": 39,
   "metadata": {},
   "outputs": [
    {
     "data": {
      "text/html": [
       "<dl class=dl-horizontal>\n",
       "\t<dt>2.5%</dt>\n",
       "\t\t<dd>-0.0819912281415072</dd>\n",
       "\t<dt>97.5%</dt>\n",
       "\t\t<dd>-0.0221730845058231</dd>\n",
       "</dl>\n"
      ],
      "text/latex": [
       "\\begin{description*}\n",
       "\\item[2.5\\textbackslash{}\\%] -0.0819912281415072\n",
       "\\item[97.5\\textbackslash{}\\%] -0.0221730845058231\n",
       "\\end{description*}\n"
      ],
      "text/markdown": [
       "2.5%\n",
       ":   -0.081991228141507297.5%\n",
       ":   -0.0221730845058231\n",
       "\n"
      ],
      "text/plain": [
       "       2.5%       97.5% \n",
       "-0.08199123 -0.02217308 "
      ]
     },
     "metadata": {},
     "output_type": "display_data"
    },
    {
     "data": {
      "text/html": [
       "<table>\n",
       "<thead><tr><th></th><th scope=col>Lower limit</th><th scope=col>Upper limit</th></tr></thead>\n",
       "<tbody>\n",
       "\t<tr><th scope=row>2.5%</th><td>-0.07974   </td><td>-0.01880163</td></tr>\n",
       "</tbody>\n",
       "</table>\n"
      ],
      "text/latex": [
       "\\begin{tabular}{r|ll}\n",
       "  & Lower limit & Upper limit\\\\\n",
       "\\hline\n",
       "\t2.5\\% & -0.07974    & -0.01880163\\\\\n",
       "\\end{tabular}\n"
      ],
      "text/markdown": [
       "\n",
       "| <!--/--> | Lower limit | Upper limit | \n",
       "|---|\n",
       "| 2.5% | -0.07974    | -0.01880163 | \n",
       "\n",
       "\n"
      ],
      "text/plain": [
       "     Lower limit Upper limit\n",
       "2.5% -0.07974    -0.01880163"
      ]
     },
     "metadata": {},
     "output_type": "display_data"
    }
   ],
   "source": [
    "set.seed(100)\n",
    "s<-1:dim(dat)[1]\n",
    "l<-1000\n",
    "beta.b<-matrix(rep(0,l*dim(x)[2]),nrow=l,ncol=dim(x)[2])\n",
    "se.b<-c()\n",
    "for(i in 1:l){\n",
    "    rs<-sample(s,size=length(s),replace=T)\n",
    "    beta.b[i,]<-solve(t(x[rs,])%*%x[rs,])%*%(t(x[rs,])%*%y[rs])\n",
    "    resd<-y[rs]-x[rs,]%*%beta.b[i,]\n",
    "    sig<-matrix(rep(0,dim(x[rs,])[1]*dim(x[rs,])[1]),nrow=dim(x[rs,])[1],ncol=dim(x[rs,])[1])\n",
    "    for (k in 1:dim(x[rs,])[1]){\n",
    "        for (j in 1:dim(x[rs,])[1]){\n",
    "            if (k==j)sig[k,j]<-resd[k]^2\n",
    "            }\n",
    "    }\n",
    "    cov<-solve(t(x[rs,])%*%x[rs,])%*%t(x[rs,])%*%sig%*%x[rs,]%*%solve(t(x[rs,])%*%x[rs,])\n",
    "    se.b[i]<-sqrt(cov[2,2])\n",
    "}\n",
    "ci.bc<-quantile(beta.b[,2],c(0.025,0.975))#Boot-c confidence interval\n",
    "ci.bc\n",
    "t<-(beta.b[,2]-beta[2])/se.b\n",
    "td<-quantile(t,c(0.025,0.975))\n",
    "ci.bt_l<-beta[2]+sqrt(covmat[2,2])*td[1]\n",
    "ci.bt_u<-beta[2]+sqrt(covmat[2,2])*td[2]\n",
    "ci.bt<-data.frame(cbind(ci.bt_l,ci.bt_u))     #Boot-t confidence interval\n",
    "names(ci.bt)=c(\"Lower limit\",\"Upper limit\")\n",
    "ci.bt\n"
   ]
  },
  {
   "cell_type": "code",
   "execution_count": 30,
   "metadata": {
    "scrolled": true
   },
   "outputs": [
    {
     "data": {
      "text/html": [
       "<table>\n",
       "<thead><tr><th></th><th scope=col>Lower limit</th><th scope=col>Upper limit</th></tr></thead>\n",
       "<tbody>\n",
       "\t<tr><th scope=row>CI- IV Est</th><td>-0.3205731</td><td>0.09363099</td></tr>\n",
       "</tbody>\n",
       "</table>\n"
      ],
      "text/latex": [
       "\\begin{tabular}{r|ll}\n",
       "  & Lower limit & Upper limit\\\\\n",
       "\\hline\n",
       "\tCI- IV Est & -0.3205731 & 0.09363099\\\\\n",
       "\\end{tabular}\n"
      ],
      "text/markdown": [
       "\n",
       "| <!--/--> | Lower limit | Upper limit | \n",
       "|---|\n",
       "| CI- IV Est | -0.3205731 | 0.09363099 | \n",
       "\n",
       "\n"
      ],
      "text/plain": [
       "           Lower limit Upper limit\n",
       "CI- IV Est -0.3205731  0.09363099 "
      ]
     },
     "metadata": {},
     "output_type": "display_data"
    },
    {
     "data": {
      "text/html": [
       "<table>\n",
       "<tbody>\n",
       "\t<tr><th scope=row>intrcpt</th><td> 8.38928057</td></tr>\n",
       "\t<tr><th scope=row>pctinsclnxtyr</th><td>-0.11347104</td></tr>\n",
       "\t<tr><th scope=row>mhighgrad</th><td> 1.78092810</td></tr>\n",
       "\t<tr><th scope=row>msomcol</th><td> 1.96585034</td></tr>\n",
       "\t<tr><th scope=row>fhighgrad</th><td> 2.30796945</td></tr>\n",
       "\t<tr><th scope=row>fsomcol</th><td>-0.19592583</td></tr>\n",
       "\t<tr><th scope=row>parincome</th><td> 0.01746634</td></tr>\n",
       "\t<tr><th scope=row>afqt</th><td> 0.03559152</td></tr>\n",
       "</tbody>\n",
       "</table>\n"
      ],
      "text/latex": [
       "\\begin{tabular}{r|l}\n",
       "\tintrcpt &  8.38928057\\\\\n",
       "\tpctinsclnxtyr & -0.11347104\\\\\n",
       "\tmhighgrad &  1.78092810\\\\\n",
       "\tmsomcol &  1.96585034\\\\\n",
       "\tfhighgrad &  2.30796945\\\\\n",
       "\tfsomcol & -0.19592583\\\\\n",
       "\tparincome &  0.01746634\\\\\n",
       "\tafqt &  0.03559152\\\\\n",
       "\\end{tabular}\n"
      ],
      "text/markdown": [
       "\n",
       "| intrcpt |  8.38928057 | \n",
       "| pctinsclnxtyr | -0.11347104 | \n",
       "| mhighgrad |  1.78092810 | \n",
       "| msomcol |  1.96585034 | \n",
       "| fhighgrad |  2.30796945 | \n",
       "| fsomcol | -0.19592583 | \n",
       "| parincome |  0.01746634 | \n",
       "| afqt |  0.03559152 | \n",
       "\n",
       "\n"
      ],
      "text/plain": [
       "              [,1]       \n",
       "intrcpt        8.38928057\n",
       "pctinsclnxtyr -0.11347104\n",
       "mhighgrad      1.78092810\n",
       "msomcol        1.96585034\n",
       "fhighgrad      2.30796945\n",
       "fsomcol       -0.19592583\n",
       "parincome      0.01746634\n",
       "afqt           0.03559152"
      ]
     },
     "metadata": {},
     "output_type": "display_data"
    }
   ],
   "source": [
    "z<-as.matrix(cbind(intrcpt,ctuition17=dat[,\"ctuition17\"],mhighgrad=dat[,\"mhighgrad\"],msomcol=dat[,\"msomcol\"],\n",
    "                  fhighgrad=dat[,\"fhighgrad\"],fsomcol=dat[,\"fsomcol\"],parincome=dat[,\"parincome\"],afqt=dat[,\"afqt\"]))\n",
    "beta_1st<-solve(t(z)%*%z)%*%(t(z)%*%dat[,\"pct_insclnxtyr\"]) #First stage of 2SLS \n",
    "pct.hat<-z%*%beta_1st\n",
    "x.hat<-as.matrix(cbind(intrcpt,pct.hat,mhighgrad=dat[,\"mhighgrad\"],msomcol=dat[,\"msomcol\"],\n",
    "                  fhighgrad=dat[,\"fhighgrad\"],fsomcol=dat[,\"fsomcol\"],parincome=dat[,\"parincome\"],afqt=dat[,\"afqt\"]))\n",
    "beta_iv<-solve(t(x.hat)%*%x.hat)%*%(t(x.hat)%*%y)\n",
    "rownames(beta_iv)[2]<-\"pctinsclnxtyr\"\n",
    "res_iv<-y-x.hat%*%beta_iv\n",
    "sigma_iv<-matrix(rep(0,dim(x.hat)[1]*dim(x.hat)[1]),nrow=dim(x.hat)[1],ncol=dim(x.hat)[1]) #Independent but non-identical \n",
    "                                                                                             #Variance-Covariance structure\n",
    "for (i in 1:dim(x.hat)[1]){\n",
    "    for (j in 1:dim(x.hat)[1]){\n",
    "        if (i==j)sigma_iv[i,j]<-res_iv[i]^2\n",
    "    }\n",
    "}\n",
    "covmat_iv<-solve(t(x.hat)%*%x.hat)%*%t(x.hat)%*%sigma_iv%*%x.hat%*%solve(t(x.hat)%*%x.hat) #Robust standard error estimation \n",
    "ci_up_iv<-beta_iv[2]+sqrt(covmat_iv[2,2])*1.96\n",
    "ci_low_iv<-beta_iv[2]-sqrt(covmat_iv[2,2])*1.96\n",
    "ci_iv<-data.frame(cbind(ci_low_iv,ci_up_iv))     #Confidence interval for IV estimate\n",
    "names(ci_iv)=c(\"Lower limit\",\"Upper limit\")\n",
    "row.names(ci_iv)<-\"CI- IV Est\"\n",
    "ci_iv\n",
    "beta_iv"
   ]
  },
  {
   "cell_type": "code",
   "execution_count": 35,
   "metadata": {},
   "outputs": [
    {
     "data": {
      "text/html": [
       "<dl class=dl-horizontal>\n",
       "\t<dt>2.5%</dt>\n",
       "\t\t<dd>-0.130033518129356</dd>\n",
       "\t<dt>97.5%</dt>\n",
       "\t\t<dd>0.120542679373949</dd>\n",
       "</dl>\n"
      ],
      "text/latex": [
       "\\begin{description*}\n",
       "\\item[2.5\\textbackslash{}\\%] -0.130033518129356\n",
       "\\item[97.5\\textbackslash{}\\%] 0.120542679373949\n",
       "\\end{description*}\n"
      ],
      "text/markdown": [
       "2.5%\n",
       ":   -0.13003351812935697.5%\n",
       ":   0.120542679373949\n",
       "\n"
      ],
      "text/plain": [
       "      2.5%      97.5% \n",
       "-0.1300335  0.1205427 "
      ]
     },
     "metadata": {},
     "output_type": "display_data"
    },
    {
     "data": {
      "text/html": [
       "<table>\n",
       "<thead><tr><th></th><th scope=col>Lower limit</th><th scope=col>Upper limit</th></tr></thead>\n",
       "<tbody>\n",
       "\t<tr><th scope=row>2.5%</th><td>-0.1551784</td><td>0.5219737 </td></tr>\n",
       "</tbody>\n",
       "</table>\n"
      ],
      "text/latex": [
       "\\begin{tabular}{r|ll}\n",
       "  & Lower limit & Upper limit\\\\\n",
       "\\hline\n",
       "\t2.5\\% & -0.1551784 & 0.5219737 \\\\\n",
       "\\end{tabular}\n"
      ],
      "text/markdown": [
       "\n",
       "| <!--/--> | Lower limit | Upper limit | \n",
       "|---|\n",
       "| 2.5% | -0.1551784 | 0.5219737  | \n",
       "\n",
       "\n"
      ],
      "text/plain": [
       "     Lower limit Upper limit\n",
       "2.5% -0.1551784  0.5219737  "
      ]
     },
     "metadata": {},
     "output_type": "display_data"
    }
   ],
   "source": [
    "set.seed(100)\n",
    "s<-1:dim(dat)[1]\n",
    "l<-1000\n",
    "beta_iv.b<-matrix(rep(0,l*dim(x.hat)[2]),nrow=l,ncol=dim(x.hat)[2])\n",
    "se_iv.b<-c()\n",
    "for(i in 1:l){\n",
    "    rs<-sample(s,size=length(s),replace=T)\n",
    "    beta_1st<-solve(t(z[rs,])%*%z[rs,])%*%(t(z[rs,])%*%dat[,\"pct_insclnxtyr\"][rs])\n",
    "    pct.hat<-z[rs,]%*%beta_1st\n",
    "    x.hat<-as.matrix(cbind(intrcpt,pctinsclnxtyr=pct.hat,mhighgrad=dat[,\"mhighgrad\"],msomcol=dat[,\"msomcol\"],\n",
    "                  fhighgrad=dat[,\"fhighgrad\"],fsomcol=dat[,\"fsomcol\"],parincome=dat[,\"parincome\"],afqt=dat[,\"afqt\"]))\n",
    "    beta_iv.b[i,]<-solve(t(x.hat[rs,])%*%x.hat[rs,])%*%(t(x.hat[rs,])%*%y[rs])\n",
    "    resd_iv<-y[rs]-x.hat[rs,]%*%beta_iv.b[i,]\n",
    "    sig_iv<-matrix(rep(0,dim(x.hat[rs,])[1]*dim(x.hat[rs,])[1]),\n",
    "                   nrow=dim(x.hat[rs,])[1],ncol=dim(x.hat[rs,])[1]) #Independent but non-identical \n",
    "                                                                    #Variance-Covariance structure\n",
    "    for (k in 1:dim(x.hat[rs,])[1]){\n",
    "        for (j in 1:dim(x.hat[rs,])[1]){\n",
    "            if (k==j)sig_iv[k,j]<-resd_iv[k]^2\n",
    "    }\n",
    "}\n",
    "cov_iv<-solve(t(x.hat[rs,])%*%x.hat[rs,])%*%t(x.hat[rs,])%*%sig_iv%*%x.hat[rs,]%*%solve(t(x.hat[rs,])%*%x.hat[rs,])\n",
    "se_iv.b[i]<-sqrt(cov_iv[2,2])\n",
    "}\n",
    "ci.bc_iv<-quantile(beta_iv.b[,2],c(0.025,0.975))#Bootstrap-c Confidence interval for IV estimate\n",
    "ci.bc_iv\n",
    "t_iv<-(beta_iv.b[,2]-beta_iv[2])/se_iv.b\n",
    "td_iv<-quantile(t_iv,c(0.025,0.975))\n",
    "ci.bt_liv<-beta_iv[2]+sqrt(covmat_iv[2,2])*td_iv[1]\n",
    "ci.bt_uiv<-beta_iv[2]+sqrt(covmat_iv[2,2])*td_iv[2]\n",
    "ci.bt_iv<-data.frame(cbind(ci.bt_liv,ci.bt_uiv))     #Boot-t confidence interval\n",
    "names(ci.bt_iv)=c(\"Lower limit\",\"Upper limit\")\n",
    "ci.bt_iv"
   ]
  },
  {
   "cell_type": "markdown",
   "metadata": {},
   "source": [
    "From the four confidence interval, we can see that the ols estimate under heterogeneity with robust standard error estimate has $95\\%$ confidence interval (CI) similar to that of what we get with bootstrap sampling. On the other hand, two stage least square (2SLS) produces a CI which is way off from the bootstrap estimate. These results goes along the point made in the recent paper of Alwyn Young where he asserted that, 2SLS is susciptible to non-iid relative to OLS. "
   ]
  }
 ],
 "metadata": {
  "kernelspec": {
   "display_name": "R",
   "language": "R",
   "name": "ir"
  },
  "language_info": {
   "codemirror_mode": "r",
   "file_extension": ".r",
   "mimetype": "text/x-r-source",
   "name": "R",
   "pygments_lexer": "r",
   "version": "3.4.3"
  }
 },
 "nbformat": 4,
 "nbformat_minor": 2
}
