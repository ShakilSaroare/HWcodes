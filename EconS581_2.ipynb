{
 "cells": [
  {
   "cell_type": "markdown",
   "metadata": {
    "scrolled": true
   },
   "source": [
    "# Golam Saroare Shakil-011577991\n",
    "# EconS 581 \n",
    "# Homework 2"
   ]
  },
  {
   "cell_type": "code",
   "execution_count": 1,
   "metadata": {
    "scrolled": false
   },
   "outputs": [
    {
     "data": {
      "text/html": [
       "<table>\n",
       "<thead><tr><th></th><th scope=col>Max</th><th scope=col>Mean</th><th scope=col>Min</th><th scope=col>Std_dev</th></tr></thead>\n",
       "<tbody>\n",
       "\t<tr><th scope=row>living_area</th><td>5349.00000  </td><td>1914.4288585</td><td>560         </td><td>681.5401970 </td></tr>\n",
       "\t<tr><th scope=row>baths</th><td>   7.00000  </td><td>   2.4623103</td><td>  1         </td><td>  0.6789259 </td></tr>\n",
       "\t<tr><th scope=row>age</th><td>  98.00000  </td><td>  11.3658964</td><td>  0         </td><td> 15.0582137 </td></tr>\n",
       "\t<tr><th scope=row>fireplace</th><td>   1.00000  </td><td>   0.8963083</td><td>  0         </td><td>  0.3048641 </td></tr>\n",
       "\t<tr><th scope=row>garage_area</th><td>1724.00000  </td><td> 289.6319654</td><td>  0         </td><td>248.8732539 </td></tr>\n",
       "\t<tr><th scope=row>lakedist</th><td>  67.44534  </td><td>  17.1906924</td><td>  0         </td><td> 11.7879289 </td></tr>\n",
       "</tbody>\n",
       "</table>\n"
      ],
      "text/latex": [
       "\\begin{tabular}{r|llll}\n",
       "  & Max & Mean & Min & Std\\_dev\\\\\n",
       "\\hline\n",
       "\tliving\\_area & 5349.00000   & 1914.4288585 & 560          & 681.5401970 \\\\\n",
       "\tbaths &    7.00000   &    2.4623103 &   1          &   0.6789259 \\\\\n",
       "\tage &   98.00000   &   11.3658964 &   0          &  15.0582137 \\\\\n",
       "\tfireplace &    1.00000   &    0.8963083 &   0          &   0.3048641 \\\\\n",
       "\tgarage\\_area & 1724.00000   &  289.6319654 &   0          & 248.8732539 \\\\\n",
       "\tlakedist &   67.44534   &   17.1906924 &   0          &  11.7879289 \\\\\n",
       "\\end{tabular}\n"
      ],
      "text/markdown": [
       "\n",
       "| <!--/--> | Max | Mean | Min | Std_dev | \n",
       "|---|---|---|---|---|---|\n",
       "| living_area | 5349.00000   | 1914.4288585 | 560          | 681.5401970  | \n",
       "| baths |    7.00000   |    2.4623103 |   1          |   0.6789259  | \n",
       "| age |   98.00000   |   11.3658964 |   0          |  15.0582137  | \n",
       "| fireplace |    1.00000   |    0.8963083 |   0          |   0.3048641  | \n",
       "| garage_area | 1724.00000   |  289.6319654 |   0          | 248.8732539  | \n",
       "| lakedist |   67.44534   |   17.1906924 |   0          |  11.7879289  | \n",
       "\n",
       "\n"
      ],
      "text/plain": [
       "            Max        Mean         Min Std_dev    \n",
       "living_area 5349.00000 1914.4288585 560 681.5401970\n",
       "baths          7.00000    2.4623103   1   0.6789259\n",
       "age           98.00000   11.3658964   0  15.0582137\n",
       "fireplace      1.00000    0.8963083   0   0.3048641\n",
       "garage_area 1724.00000  289.6319654   0 248.8732539\n",
       "lakedist      67.44534   17.1906924   0  11.7879289"
      ]
     },
     "metadata": {},
     "output_type": "display_data"
    },
    {
     "data": {
      "image/png": "[encoded data removed]",
      "text/plain": [
       "Plot with title \"Histogram of age\""
      ]
     },
     "metadata": {},
     "output_type": "display_data"
    }
   ],
   "source": [
    "##Problem 18.1\n",
    "dat<-read.csv(\"wake_exercise.csv\",header=T)\n",
    "names(dat)[1]<-\"price\"\n",
    "attach(dat)\n",
    "d<-dat[,c(\"living_area\",\"baths\",\"age\",\"fireplace\",\"garage_area\",\"lakedist\")]\n",
    "summ1<-apply(d,2,max)\n",
    "summ2<-apply(d,2,mean)\n",
    "summ3<-apply(d,2,min)\n",
    "summ4<-apply(d,2,sd)\n",
    "d<-data.frame(summ1,summ2,summ3,summ4)\n",
    "names(d)<-c(\"Max\",\"Mean\",\"Min\",\"Std_dev\")\n",
    "d\n",
    "par(mfrow=c(2,2))\n",
    "options(repr.plot.width=8,repr.plot.height=8)\n",
    "hist(lprice)\n",
    "hist(living_area)\n",
    "hist(baths)\n",
    "hist(age)"
   ]
  },
  {
   "cell_type": "code",
   "execution_count": 16,
   "metadata": {
    "scrolled": false
   },
   "outputs": [
    {
     "data": {
      "text/html": [
       "<table>\n",
       "<thead><tr><th></th><th scope=col>Estimates</th><th scope=col>Stdard_err</th><th scope=col>Critical t-value</th><th scope=col>p-value</th></tr></thead>\n",
       "<tbody>\n",
       "\t<tr><th scope=row>intercept</th><td>1.065079e+01 </td><td>1.762170e-02 </td><td>604.413217   </td><td> 0.000000e+00</td></tr>\n",
       "\t<tr><th scope=row>living_area</th><td>3.730434e-04 </td><td>1.886370e-06 </td><td>197.757238   </td><td> 0.000000e+00</td></tr>\n",
       "\t<tr><th scope=row>baths</th><td>7.346504e-02 </td><td>1.685580e-03 </td><td> 43.584440   </td><td> 0.000000e+00</td></tr>\n",
       "\t<tr><th scope=row>age</th><td>2.524081e-03 </td><td>7.454306e-05 </td><td> 33.860706   </td><td>1.036325e-247</td></tr>\n",
       "\t<tr><th scope=row>fireplace</th><td>9.592745e-02 </td><td>3.034495e-03 </td><td> 31.612323   </td><td>1.413904e-216</td></tr>\n",
       "\t<tr><th scope=row>garage_area</th><td>2.984871e-04 </td><td>4.954906e-06 </td><td> 60.240715   </td><td> 0.000000e+00</td></tr>\n",
       "\t<tr><th scope=row>condA</th><td>5.462330e-01 </td><td>1.735664e-02 </td><td> 31.471120   </td><td>1.092016e-214</td></tr>\n",
       "\t<tr><th scope=row>condB</th><td>2.663553e-01 </td><td>1.715287e-02 </td><td> 15.528320   </td><td> 3.250374e-54</td></tr>\n",
       "\t<tr><th scope=row>condC</th><td>1.160854e-01 </td><td>1.781213e-02 </td><td>  6.517209   </td><td> 7.250344e-11</td></tr>\n",
       "</tbody>\n",
       "</table>\n"
      ],
      "text/latex": [
       "\\begin{tabular}{r|llll}\n",
       "  & Estimates & Stdard\\_err & Critical t-value & p-value\\\\\n",
       "\\hline\n",
       "\tintercept & 1.065079e+01  & 1.762170e-02  & 604.413217    &  0.000000e+00\\\\\n",
       "\tliving\\_area & 3.730434e-04  & 1.886370e-06  & 197.757238    &  0.000000e+00\\\\\n",
       "\tbaths & 7.346504e-02  & 1.685580e-03  &  43.584440    &  0.000000e+00\\\\\n",
       "\tage & 2.524081e-03  & 7.454306e-05  &  33.860706    & 1.036325e-247\\\\\n",
       "\tfireplace & 9.592745e-02  & 3.034495e-03  &  31.612323    & 1.413904e-216\\\\\n",
       "\tgarage\\_area & 2.984871e-04  & 4.954906e-06  &  60.240715    &  0.000000e+00\\\\\n",
       "\tcondA & 5.462330e-01  & 1.735664e-02  &  31.471120    & 1.092016e-214\\\\\n",
       "\tcondB & 2.663553e-01  & 1.715287e-02  &  15.528320    &  3.250374e-54\\\\\n",
       "\tcondC & 1.160854e-01  & 1.781213e-02  &   6.517209    &  7.250344e-11\\\\\n",
       "\\end{tabular}\n"
      ],
      "text/markdown": [
       "\n",
       "| <!--/--> | Estimates | Stdard_err | Critical t-value | p-value | \n",
       "|---|---|---|---|---|---|---|---|---|\n",
       "| intercept | 1.065079e+01  | 1.762170e-02  | 604.413217    |  0.000000e+00 | \n",
       "| living_area | 3.730434e-04  | 1.886370e-06  | 197.757238    |  0.000000e+00 | \n",
       "| baths | 7.346504e-02  | 1.685580e-03  |  43.584440    |  0.000000e+00 | \n",
       "| age | 2.524081e-03  | 7.454306e-05  |  33.860706    | 1.036325e-247 | \n",
       "| fireplace | 9.592745e-02  | 3.034495e-03  |  31.612323    | 1.413904e-216 | \n",
       "| garage_area | 2.984871e-04  | 4.954906e-06  |  60.240715    |  0.000000e+00 | \n",
       "| condA | 5.462330e-01  | 1.735664e-02  |  31.471120    | 1.092016e-214 | \n",
       "| condB | 2.663553e-01  | 1.715287e-02  |  15.528320    |  3.250374e-54 | \n",
       "| condC | 1.160854e-01  | 1.781213e-02  |   6.517209    |  7.250344e-11 | \n",
       "\n",
       "\n"
      ],
      "text/plain": [
       "            Estimates    Stdard_err   Critical t-value p-value      \n",
       "intercept   1.065079e+01 1.762170e-02 604.413217        0.000000e+00\n",
       "living_area 3.730434e-04 1.886370e-06 197.757238        0.000000e+00\n",
       "baths       7.346504e-02 1.685580e-03  43.584440        0.000000e+00\n",
       "age         2.524081e-03 7.454306e-05  33.860706       1.036325e-247\n",
       "fireplace   9.592745e-02 3.034495e-03  31.612323       1.413904e-216\n",
       "garage_area 2.984871e-04 4.954906e-06  60.240715        0.000000e+00\n",
       "condA       5.462330e-01 1.735664e-02  31.471120       1.092016e-214\n",
       "condB       2.663553e-01 1.715287e-02  15.528320        3.250374e-54\n",
       "condC       1.160854e-01 1.781213e-02   6.517209        7.250344e-11"
      ]
     },
     "metadata": {},
     "output_type": "display_data"
    },
    {
     "data": {
      "image/png": "[encoded data removed]",
      "text/plain": [
       "Plot with title \"Implicit Price Distribution\""
      ]
     },
     "metadata": {},
     "output_type": "display_data"
    }
   ],
   "source": [
    "intercept<-rep(1,length(lprice))\n",
    "x<-as.matrix(cbind(intercept,living_area,baths,age,fireplace,garage_area,condA,condB,condC))\n",
    "y<-lprice\n",
    "beta<-solve(t(x)%*%x)%*%(t(x)%*%y)\n",
    "res<-y-x%*%beta\n",
    "s2hat<-as.numeric((t(res)%*%res)/(length(res)-dim(x)[2]))\n",
    "cov.mat<-s2hat[1]*solve(t(x)%*%x)\n",
    "std.err<-sqrt(diag(cov.mat))\n",
    "tval<-beta/std.err\n",
    "names(tval)=\"tval\"\n",
    "pval<-2*pt(-abs(tval),length(res)-dim(x)[2])\n",
    "summ.mod<-data.frame(cbind(beta,std.err,tval,pval))\n",
    "names(summ.mod)<-c(\"Estimates\",\"Stdard_err\",\"Critical t-value\",\"p-value\")\n",
    "summ.mod\n",
    "imp_pr<-beta[2]*price\n",
    "options(repr.plot.width=4,repr.plot.height=4)\n",
    "hist(imp_pr,main=\"Implicit Price Distribution\",xlab=\"Implicit Price for living area\")"
   ]
  },
  {
   "cell_type": "markdown",
   "metadata": {},
   "source": [
    "# Interpretation\n",
    "We can observe from the table above that all the independent variables has a positive effect on log-price and independent varibales included in the model are highly statistically significant. However, the effecst are small and that raises the question whether these are economically significant or not. The distribution of implicit price suggests that households who are pricing between 40 to 70 have the fighest frequency.  "
   ]
  },
  {
   "cell_type": "code",
   "execution_count": 17,
   "metadata": {},
   "outputs": [
    {
     "data": {
      "text/html": [
       "<table>\n",
       "<thead><tr><th></th><th scope=col>Estimates</th><th scope=col>Stdard_err</th><th scope=col>Critical t-value</th><th scope=col>p-value</th></tr></thead>\n",
       "<tbody>\n",
       "\t<tr><th scope=row>intercept</th><td>10.7036903714</td><td>1.813214e-02 </td><td>590.315802   </td><td> 0.000000e+00</td></tr>\n",
       "\t<tr><th scope=row>living_area</th><td> 0.0003701144</td><td>1.880580e-06 </td><td>196.808629   </td><td> 0.000000e+00</td></tr>\n",
       "\t<tr><th scope=row>baths</th><td> 0.0697478305</td><td>1.688257e-03 </td><td> 41.313526   </td><td> 0.000000e+00</td></tr>\n",
       "\t<tr><th scope=row>age</th><td> 0.0023340961</td><td>7.463790e-05 </td><td> 31.272263   </td><td>4.823521e-212</td></tr>\n",
       "\t<tr><th scope=row>fireplace</th><td> 0.0953798307</td><td>3.016372e-03 </td><td> 31.620713   </td><td>1.091805e-216</td></tr>\n",
       "\t<tr><th scope=row>garage_area</th><td> 0.0003041127</td><td>4.934516e-06 </td><td> 61.629682   </td><td> 0.000000e+00</td></tr>\n",
       "\t<tr><th scope=row>condA</th><td> 0.5409851874</td><td>1.725414e-02 </td><td> 31.353944   </td><td>3.970560e-213</td></tr>\n",
       "\t<tr><th scope=row>condB</th><td> 0.2588211927</td><td>1.705337e-02 </td><td> 15.177127   </td><td> 7.066627e-52</td></tr>\n",
       "\t<tr><th scope=row>condC</th><td> 0.1155244495</td><td>1.770531e-02 </td><td>  6.524846   </td><td> 6.890759e-11</td></tr>\n",
       "\t<tr><th scope=row>lakedist</th><td>-0.0015124057</td><td>1.629576e-04 </td><td> -9.280975   </td><td> 1.763391e-20</td></tr>\n",
       "\t<tr><th scope=row>log.lakedist</th><td>-0.0015133589</td><td>2.440713e-03 </td><td> -0.620048   </td><td> 5.352298e-01</td></tr>\n",
       "</tbody>\n",
       "</table>\n"
      ],
      "text/latex": [
       "\\begin{tabular}{r|llll}\n",
       "  & Estimates & Stdard\\_err & Critical t-value & p-value\\\\\n",
       "\\hline\n",
       "\tintercept & 10.7036903714 & 1.813214e-02  & 590.315802    &  0.000000e+00\\\\\n",
       "\tliving\\_area &  0.0003701144 & 1.880580e-06  & 196.808629    &  0.000000e+00\\\\\n",
       "\tbaths &  0.0697478305 & 1.688257e-03  &  41.313526    &  0.000000e+00\\\\\n",
       "\tage &  0.0023340961 & 7.463790e-05  &  31.272263    & 4.823521e-212\\\\\n",
       "\tfireplace &  0.0953798307 & 3.016372e-03  &  31.620713    & 1.091805e-216\\\\\n",
       "\tgarage\\_area &  0.0003041127 & 4.934516e-06  &  61.629682    &  0.000000e+00\\\\\n",
       "\tcondA &  0.5409851874 & 1.725414e-02  &  31.353944    & 3.970560e-213\\\\\n",
       "\tcondB &  0.2588211927 & 1.705337e-02  &  15.177127    &  7.066627e-52\\\\\n",
       "\tcondC &  0.1155244495 & 1.770531e-02  &   6.524846    &  6.890759e-11\\\\\n",
       "\tlakedist & -0.0015124057 & 1.629576e-04  &  -9.280975    &  1.763391e-20\\\\\n",
       "\tlog.lakedist & -0.0015133589 & 2.440713e-03  &  -0.620048    &  5.352298e-01\\\\\n",
       "\\end{tabular}\n"
      ],
      "text/markdown": [
       "\n",
       "| <!--/--> | Estimates | Stdard_err | Critical t-value | p-value | \n",
       "|---|---|---|---|---|---|---|---|---|---|---|\n",
       "| intercept | 10.7036903714 | 1.813214e-02  | 590.315802    |  0.000000e+00 | \n",
       "| living_area |  0.0003701144 | 1.880580e-06  | 196.808629    |  0.000000e+00 | \n",
       "| baths |  0.0697478305 | 1.688257e-03  |  41.313526    |  0.000000e+00 | \n",
       "| age |  0.0023340961 | 7.463790e-05  |  31.272263    | 4.823521e-212 | \n",
       "| fireplace |  0.0953798307 | 3.016372e-03  |  31.620713    | 1.091805e-216 | \n",
       "| garage_area |  0.0003041127 | 4.934516e-06  |  61.629682    |  0.000000e+00 | \n",
       "| condA |  0.5409851874 | 1.725414e-02  |  31.353944    | 3.970560e-213 | \n",
       "| condB |  0.2588211927 | 1.705337e-02  |  15.177127    |  7.066627e-52 | \n",
       "| condC |  0.1155244495 | 1.770531e-02  |   6.524846    |  6.890759e-11 | \n",
       "| lakedist | -0.0015124057 | 1.629576e-04  |  -9.280975    |  1.763391e-20 | \n",
       "| log.lakedist | -0.0015133589 | 2.440713e-03  |  -0.620048    |  5.352298e-01 | \n",
       "\n",
       "\n"
      ],
      "text/plain": [
       "             Estimates     Stdard_err   Critical t-value p-value      \n",
       "intercept    10.7036903714 1.813214e-02 590.315802        0.000000e+00\n",
       "living_area   0.0003701144 1.880580e-06 196.808629        0.000000e+00\n",
       "baths         0.0697478305 1.688257e-03  41.313526        0.000000e+00\n",
       "age           0.0023340961 7.463790e-05  31.272263       4.823521e-212\n",
       "fireplace     0.0953798307 3.016372e-03  31.620713       1.091805e-216\n",
       "garage_area   0.0003041127 4.934516e-06  61.629682        0.000000e+00\n",
       "condA         0.5409851874 1.725414e-02  31.353944       3.970560e-213\n",
       "condB         0.2588211927 1.705337e-02  15.177127        7.066627e-52\n",
       "condC         0.1155244495 1.770531e-02   6.524846        6.890759e-11\n",
       "lakedist     -0.0015124057 1.629576e-04  -9.280975        1.763391e-20\n",
       "log.lakedist -0.0015133589 2.440713e-03  -0.620048        5.352298e-01"
      ]
     },
     "metadata": {},
     "output_type": "display_data"
    },
    {
     "name": "stdout",
     "output_type": "stream",
     "text": [
      "[1] \"Marginal WTP for lake access= -304.386506278273\"\n"
     ]
    }
   ],
   "source": [
    "##Problem 18.2\n",
    "log.lakedist=c()\n",
    "for (i in 1:length(lprice)){\n",
    "    if(lakedist[i]<=1)lakedist[i]=1\n",
    "    }\n",
    "log.lakedist<-log(lakedist)\n",
    "x1<-as.matrix(cbind(intercept,living_area,baths,age,fireplace,garage_area,condA,condB,condC,lakedist,log.lakedist))\n",
    "y<-lprice\n",
    "beta<-solve(t(x1)%*%x1)%*%(t(x1)%*%y)\n",
    "res<-y-x1%*%beta\n",
    "s2hat<-as.numeric((t(res)%*%res)/(length(res)-dim(x1)[2]))\n",
    "cov.mat<-s2hat[1]*solve(t(x1)%*%x1)\n",
    "std.err<-sqrt(diag(cov.mat))\n",
    "tval<-beta/std.err\n",
    "names(tval)=\"tval\"\n",
    "pval<-2*pt(-abs(tval),length(res)-dim(x1)[2])\n",
    "summ.mod<-data.frame(cbind(beta,std.err,tval,pval))\n",
    "names(summ.mod)<-c(\"Estimates\",\"Stdard_err\",\"Critical t-value\",\"p-value\")\n",
    "summ.mod\n",
    "imp_pr1<-mean(beta[10]*price)+beta[11]*mean((price/lakedist))\n",
    "print(paste0(\"Marginal WTP for lake access= \",imp_pr1))"
   ]
  },
  {
   "cell_type": "markdown",
   "metadata": {},
   "source": [
    "Here, first we replaced  the value of all the values of lakedist less than or equal 1 with 1.  From the table we can see that the \"Lakedist\" is highly significant and log-lakedist is not significant at $5\\%$ lavel of significance. Therefore, the functional form of distance doesn't seem to be important. For our specification the marginal WTP: $ \\frac{\\partial Price_{i}}{\\partial distance_{i}}=\\beta_{9}Price_{i}+\\beta_{10}\\frac{Price_{i}}{distance_{i}}$ which is estimated as -304.39."
   ]
  },
  {
   "cell_type": "code",
   "execution_count": 18,
   "metadata": {},
   "outputs": [
    {
     "data": {
      "text/html": [
       "<table>\n",
       "<thead><tr><th></th><th scope=col>Estimates</th><th scope=col>Stdard_err</th><th scope=col>Critical t-value</th><th scope=col>p-value</th></tr></thead>\n",
       "<tbody>\n",
       "\t<tr><th scope=row>intercept</th><td>10.9171767410</td><td>6.713799e-03 </td><td>1626.0804781 </td><td> 0.000000e+00</td></tr>\n",
       "\t<tr><th scope=row>living_area</th><td> 0.0003784248</td><td>2.022721e-06 </td><td> 187.0869643 </td><td> 0.000000e+00</td></tr>\n",
       "\t<tr><th scope=row>baths</th><td> 0.0739863042</td><td>1.818053e-03 </td><td>  40.6953574 </td><td> 0.000000e+00</td></tr>\n",
       "\t<tr><th scope=row>age</th><td> 0.0039820489</td><td>7.108383e-05 </td><td>  56.0190556 </td><td> 0.000000e+00</td></tr>\n",
       "\t<tr><th scope=row>fireplace</th><td> 0.1062300557</td><td>3.241919e-03 </td><td>  32.7676429 </td><td>2.535478e-232</td></tr>\n",
       "\t<tr><th scope=row>garage_area</th><td> 0.0002943397</td><td>5.318510e-06 </td><td>  55.3425087 </td><td> 0.000000e+00</td></tr>\n",
       "\t<tr><th scope=row>lakedist</th><td>-0.0017874287</td><td>1.755953e-04 </td><td> -10.1792490 </td><td> 2.633418e-24</td></tr>\n",
       "\t<tr><th scope=row>log.lakedist</th><td> 0.0023774703</td><td>2.630992e-03 </td><td>   0.9036401 </td><td> 3.661919e-01</td></tr>\n",
       "</tbody>\n",
       "</table>\n"
      ],
      "text/latex": [
       "\\begin{tabular}{r|llll}\n",
       "  & Estimates & Stdard\\_err & Critical t-value & p-value\\\\\n",
       "\\hline\n",
       "\tintercept & 10.9171767410 & 6.713799e-03  & 1626.0804781  &  0.000000e+00\\\\\n",
       "\tliving\\_area &  0.0003784248 & 2.022721e-06  &  187.0869643  &  0.000000e+00\\\\\n",
       "\tbaths &  0.0739863042 & 1.818053e-03  &   40.6953574  &  0.000000e+00\\\\\n",
       "\tage &  0.0039820489 & 7.108383e-05  &   56.0190556  &  0.000000e+00\\\\\n",
       "\tfireplace &  0.1062300557 & 3.241919e-03  &   32.7676429  & 2.535478e-232\\\\\n",
       "\tgarage\\_area &  0.0002943397 & 5.318510e-06  &   55.3425087  &  0.000000e+00\\\\\n",
       "\tlakedist & -0.0017874287 & 1.755953e-04  &  -10.1792490  &  2.633418e-24\\\\\n",
       "\tlog.lakedist &  0.0023774703 & 2.630992e-03  &    0.9036401  &  3.661919e-01\\\\\n",
       "\\end{tabular}\n"
      ],
      "text/markdown": [
       "\n",
       "| <!--/--> | Estimates | Stdard_err | Critical t-value | p-value | \n",
       "|---|---|---|---|---|---|---|---|\n",
       "| intercept | 10.9171767410 | 6.713799e-03  | 1626.0804781  |  0.000000e+00 | \n",
       "| living_area |  0.0003784248 | 2.022721e-06  |  187.0869643  |  0.000000e+00 | \n",
       "| baths |  0.0739863042 | 1.818053e-03  |   40.6953574  |  0.000000e+00 | \n",
       "| age |  0.0039820489 | 7.108383e-05  |   56.0190556  |  0.000000e+00 | \n",
       "| fireplace |  0.1062300557 | 3.241919e-03  |   32.7676429  | 2.535478e-232 | \n",
       "| garage_area |  0.0002943397 | 5.318510e-06  |   55.3425087  |  0.000000e+00 | \n",
       "| lakedist | -0.0017874287 | 1.755953e-04  |  -10.1792490  |  2.633418e-24 | \n",
       "| log.lakedist |  0.0023774703 | 2.630992e-03  |    0.9036401  |  3.661919e-01 | \n",
       "\n",
       "\n"
      ],
      "text/plain": [
       "             Estimates     Stdard_err   Critical t-value p-value      \n",
       "intercept    10.9171767410 6.713799e-03 1626.0804781      0.000000e+00\n",
       "living_area   0.0003784248 2.022721e-06  187.0869643      0.000000e+00\n",
       "baths         0.0739863042 1.818053e-03   40.6953574      0.000000e+00\n",
       "age           0.0039820489 7.108383e-05   56.0190556      0.000000e+00\n",
       "fireplace     0.1062300557 3.241919e-03   32.7676429     2.535478e-232\n",
       "garage_area   0.0002943397 5.318510e-06   55.3425087      0.000000e+00\n",
       "lakedist     -0.0017874287 1.755953e-04  -10.1792490      2.633418e-24\n",
       "log.lakedist  0.0023774703 2.630992e-03    0.9036401      3.661919e-01"
      ]
     },
     "metadata": {},
     "output_type": "display_data"
    },
    {
     "name": "stdout",
     "output_type": "stream",
     "text": [
      "[1] \"Marginal WTP for lake access= -272.302060797607\"\n"
     ]
    }
   ],
   "source": [
    "x2<-as.matrix(cbind(intercept,living_area,baths,age,fireplace,garage_area,lakedist,log.lakedist))\n",
    "y<-lprice\n",
    "beta<-solve(t(x2)%*%x2)%*%(t(x2)%*%y)\n",
    "res<-y-x2%*%beta\n",
    "s2hat<-as.numeric((t(res)%*%res)/(length(res)-dim(x2)[2]))\n",
    "cov.mat<-s2hat[1]*solve(t(x2)%*%x2)\n",
    "std.err<-sqrt(diag(cov.mat))\n",
    "tval<-beta/std.err\n",
    "names(tval)=\"tval\"\n",
    "pval<-2*pt(-abs(tval),length(res)-dim(x2)[2])\n",
    "summ.mod<-data.frame(cbind(beta,std.err,tval,pval))\n",
    "names(summ.mod)<-c(\"Estimates\",\"Stdard_err\",\"Critical t-value\",\"p-value\")\n",
    "summ.mod\n",
    "imp_pr2<-mean(beta[07]*price)+mean(beta[08]*(price/lakedist))\n",
    "print(paste0(\"Marginal WTP for lake access= \",imp_pr2))"
   ]
  },
  {
   "cell_type": "markdown",
   "metadata": {},
   "source": [
    "As we can see that, the implicit price increased significantly under this specification. It is because of the fact that if there is no incentive, e.g. school, employment or other spatial advantage, then there is a greater implicit price for living close to a lake access for living away from lake access."
   ]
  },
  {
   "cell_type": "code",
   "execution_count": 20,
   "metadata": {},
   "outputs": [
    {
     "data": {
      "text/html": [
       "<table>\n",
       "<thead><tr><th></th><th scope=col>Estimates</th><th scope=col>Stdard_err</th><th scope=col>Critical t-value</th><th scope=col>p-value</th></tr></thead>\n",
       "<tbody>\n",
       "\t<tr><th scope=row>intercept</th><td>10.6184270640</td><td>1.815587e-02 </td><td>584.848200   </td><td> 0.000000e+00</td></tr>\n",
       "\t<tr><th scope=row>living_area</th><td> 0.0003697852</td><td>1.859511e-06 </td><td>198.861558   </td><td> 0.000000e+00</td></tr>\n",
       "\t<tr><th scope=row>baths</th><td> 0.0697200931</td><td>1.669313e-03 </td><td> 41.765750   </td><td> 0.000000e+00</td></tr>\n",
       "\t<tr><th scope=row>age</th><td> 0.0014252077</td><td>7.986267e-05 </td><td> 17.845730   </td><td> 6.000107e-71</td></tr>\n",
       "\t<tr><th scope=row>fireplace</th><td> 0.0955918472</td><td>2.982533e-03 </td><td> 32.050556   </td><td>1.740865e-222</td></tr>\n",
       "\t<tr><th scope=row>garage_area</th><td> 0.0003083265</td><td>4.881196e-06 </td><td> 63.166167   </td><td> 0.000000e+00</td></tr>\n",
       "\t<tr><th scope=row>condA</th><td> 0.4925413333</td><td>1.713791e-02 </td><td> 28.739874   </td><td>9.340238e-180</td></tr>\n",
       "\t<tr><th scope=row>condB</th><td> 0.2398514462</td><td>1.687404e-02 </td><td> 14.214226   </td><td> 9.743039e-46</td></tr>\n",
       "\t<tr><th scope=row>condC</th><td> 0.1104432860</td><td>1.750747e-02 </td><td>  6.308352   </td><td> 2.850571e-10</td></tr>\n",
       "\t<tr><th scope=row>lakedist</th><td>-0.0008053094</td><td>1.628693e-04 </td><td> -4.944515   </td><td> 7.665195e-07</td></tr>\n",
       "\t<tr><th scope=row>log.lakedist</th><td>-0.0038136388</td><td>2.414561e-03 </td><td> -1.579434   </td><td> 1.142448e-01</td></tr>\n",
       "\t<tr><th scope=row>median_commute</th><td> 0.0038085608</td><td>1.278950e-04 </td><td> 29.778813   </td><td>1.092387e-192</td></tr>\n",
       "</tbody>\n",
       "</table>\n"
      ],
      "text/latex": [
       "\\begin{tabular}{r|llll}\n",
       "  & Estimates & Stdard\\_err & Critical t-value & p-value\\\\\n",
       "\\hline\n",
       "\tintercept & 10.6184270640 & 1.815587e-02  & 584.848200    &  0.000000e+00\\\\\n",
       "\tliving\\_area &  0.0003697852 & 1.859511e-06  & 198.861558    &  0.000000e+00\\\\\n",
       "\tbaths &  0.0697200931 & 1.669313e-03  &  41.765750    &  0.000000e+00\\\\\n",
       "\tage &  0.0014252077 & 7.986267e-05  &  17.845730    &  6.000107e-71\\\\\n",
       "\tfireplace &  0.0955918472 & 2.982533e-03  &  32.050556    & 1.740865e-222\\\\\n",
       "\tgarage\\_area &  0.0003083265 & 4.881196e-06  &  63.166167    &  0.000000e+00\\\\\n",
       "\tcondA &  0.4925413333 & 1.713791e-02  &  28.739874    & 9.340238e-180\\\\\n",
       "\tcondB &  0.2398514462 & 1.687404e-02  &  14.214226    &  9.743039e-46\\\\\n",
       "\tcondC &  0.1104432860 & 1.750747e-02  &   6.308352    &  2.850571e-10\\\\\n",
       "\tlakedist & -0.0008053094 & 1.628693e-04  &  -4.944515    &  7.665195e-07\\\\\n",
       "\tlog.lakedist & -0.0038136388 & 2.414561e-03  &  -1.579434    &  1.142448e-01\\\\\n",
       "\tmedian\\_commute &  0.0038085608 & 1.278950e-04  &  29.778813    & 1.092387e-192\\\\\n",
       "\\end{tabular}\n"
      ],
      "text/markdown": [
       "\n",
       "| <!--/--> | Estimates | Stdard_err | Critical t-value | p-value | \n",
       "|---|---|---|---|---|---|---|---|---|---|---|---|\n",
       "| intercept | 10.6184270640 | 1.815587e-02  | 584.848200    |  0.000000e+00 | \n",
       "| living_area |  0.0003697852 | 1.859511e-06  | 198.861558    |  0.000000e+00 | \n",
       "| baths |  0.0697200931 | 1.669313e-03  |  41.765750    |  0.000000e+00 | \n",
       "| age |  0.0014252077 | 7.986267e-05  |  17.845730    |  6.000107e-71 | \n",
       "| fireplace |  0.0955918472 | 2.982533e-03  |  32.050556    | 1.740865e-222 | \n",
       "| garage_area |  0.0003083265 | 4.881196e-06  |  63.166167    |  0.000000e+00 | \n",
       "| condA |  0.4925413333 | 1.713791e-02  |  28.739874    | 9.340238e-180 | \n",
       "| condB |  0.2398514462 | 1.687404e-02  |  14.214226    |  9.743039e-46 | \n",
       "| condC |  0.1104432860 | 1.750747e-02  |   6.308352    |  2.850571e-10 | \n",
       "| lakedist | -0.0008053094 | 1.628693e-04  |  -4.944515    |  7.665195e-07 | \n",
       "| log.lakedist | -0.0038136388 | 2.414561e-03  |  -1.579434    |  1.142448e-01 | \n",
       "| median_commute |  0.0038085608 | 1.278950e-04  |  29.778813    | 1.092387e-192 | \n",
       "\n",
       "\n"
      ],
      "text/plain": [
       "               Estimates     Stdard_err   Critical t-value p-value      \n",
       "intercept      10.6184270640 1.815587e-02 584.848200        0.000000e+00\n",
       "living_area     0.0003697852 1.859511e-06 198.861558        0.000000e+00\n",
       "baths           0.0697200931 1.669313e-03  41.765750        0.000000e+00\n",
       "age             0.0014252077 7.986267e-05  17.845730        6.000107e-71\n",
       "fireplace       0.0955918472 2.982533e-03  32.050556       1.740865e-222\n",
       "garage_area     0.0003083265 4.881196e-06  63.166167        0.000000e+00\n",
       "condA           0.4925413333 1.713791e-02  28.739874       9.340238e-180\n",
       "condB           0.2398514462 1.687404e-02  14.214226        9.743039e-46\n",
       "condC           0.1104432860 1.750747e-02   6.308352        2.850571e-10\n",
       "lakedist       -0.0008053094 1.628693e-04  -4.944515        7.665195e-07\n",
       "log.lakedist   -0.0038136388 2.414561e-03  -1.579434        1.142448e-01\n",
       "median_commute  0.0038085608 1.278950e-04  29.778813       1.092387e-192"
      ]
     },
     "metadata": {},
     "output_type": "display_data"
    },
    {
     "name": "stdout",
     "output_type": "stream",
     "text": [
      "[1] \"Implicit price for lake access= -225.203875385696\"\n"
     ]
    }
   ],
   "source": [
    "x3<-as.matrix(cbind(intercept,living_area,baths,age,fireplace,garage_area,condA,condB,condC,lakedist,\n",
    "                    log.lakedist,median_commute))\n",
    "y<-lprice\n",
    "beta<-solve(t(x3)%*%x3)%*%(t(x3)%*%y)\n",
    "res<-y-x3%*%beta\n",
    "s2hat<-as.numeric((t(res)%*%res)/(length(res)-dim(x3)[2]))\n",
    "cov.mat<-s2hat[1]*solve(t(x3)%*%x3)\n",
    "std.err<-sqrt(diag(cov.mat))\n",
    "tval<-beta/std.err\n",
    "names(tval)=\"tval\"\n",
    "pval<-2*pt(-abs(tval),length(res)-dim(x3)[2])\n",
    "summ.mod<-data.frame(cbind(beta,std.err,tval,pval))\n",
    "names(summ.mod)<-c(\"Estimates\",\"Stdard_err\",\"Critical t-value\",\"p-value\")\n",
    "summ.mod\n",
    "imp_pr3<-mean(beta[10]*price)+mean(beta[11]*(price/lakedist))\n",
    "print(paste0(\"Implicit price for lake access= \",imp_pr3))"
   ]
  },
  {
   "cell_type": "markdown",
   "metadata": {},
   "source": [
    "Adding the median_commute variable into the model, the implicit price increases which is surprising as adding more variables into the model could've decreased the weight it puts on the determination of price.   "
   ]
  },
  {
   "cell_type": "code",
   "execution_count": 21,
   "metadata": {},
   "outputs": [
    {
     "data": {
      "text/html": [
       "<table>\n",
       "<thead><tr><th></th><th scope=col>Estimates</th><th scope=col>Stdard_err</th><th scope=col>Critical t-value</th><th scope=col>p-value</th></tr></thead>\n",
       "<tbody>\n",
       "\t<tr><th scope=row>intercept</th><td>10.8530680316</td><td>1.695021e-02 </td><td>640.2911914  </td><td> 0.000000e+00</td></tr>\n",
       "\t<tr><th scope=row>living_area</th><td> 0.0003471583</td><td>1.721801e-06 </td><td>201.6251104  </td><td> 0.000000e+00</td></tr>\n",
       "\t<tr><th scope=row>baths</th><td> 0.0626320260</td><td>1.524372e-03 </td><td> 41.0871133  </td><td> 0.000000e+00</td></tr>\n",
       "\t<tr><th scope=row>age</th><td>-0.0003410053</td><td>7.694793e-05 </td><td> -4.4316364  </td><td> 9.377665e-06</td></tr>\n",
       "\t<tr><th scope=row>fireplace</th><td> 0.0605583287</td><td>2.720061e-03 </td><td> 22.2635902  </td><td>4.030293e-109</td></tr>\n",
       "\t<tr><th scope=row>garage_area</th><td> 0.0002770006</td><td>4.449123e-06 </td><td> 62.2595899  </td><td> 0.000000e+00</td></tr>\n",
       "\t<tr><th scope=row>condA</th><td> 0.3249225978</td><td>1.559455e-02 </td><td> 20.8356498  </td><td> 6.907293e-96</td></tr>\n",
       "\t<tr><th scope=row>condB</th><td> 0.1796831430</td><td>1.514006e-02 </td><td> 11.8680609  </td><td> 1.973951e-32</td></tr>\n",
       "\t<tr><th scope=row>condC</th><td> 0.0911120370</td><td>1.568567e-02 </td><td>  5.8086168  </td><td> 6.348196e-09</td></tr>\n",
       "\t<tr><th scope=row>lakedist</th><td>-0.0009250175</td><td>1.613781e-04 </td><td> -5.7319878  </td><td> 9.999488e-09</td></tr>\n",
       "\t<tr><th scope=row>log.lakedist</th><td>-0.0072070976</td><td>2.236131e-03 </td><td> -3.2230205  </td><td> 1.269512e-03</td></tr>\n",
       "\t<tr><th scope=row>median_commute</th><td>-0.0006541168</td><td>1.644371e-04 </td><td> -3.9779145  </td><td> 6.964853e-05</td></tr>\n",
       "\t<tr><th scope=row>zone1</th><td> 0.4102650183</td><td>7.919479e-03 </td><td> 51.8045437  </td><td> 0.000000e+00</td></tr>\n",
       "\t<tr><th scope=row>zone2</th><td> 0.1621889265</td><td>5.256962e-03 </td><td> 30.8522168  </td><td>1.656915e-206</td></tr>\n",
       "\t<tr><th scope=row>zone3</th><td>-0.1114095608</td><td>6.058664e-03 </td><td>-18.3884707  </td><td> 3.395765e-75</td></tr>\n",
       "\t<tr><th scope=row>zone4</th><td> 0.0442188306</td><td>7.460667e-03 </td><td>  5.9269269  </td><td> 3.112589e-09</td></tr>\n",
       "\t<tr><th scope=row>zone5</th><td> 0.1304865092</td><td>5.141606e-03 </td><td> 25.3785503  </td><td>6.175523e-141</td></tr>\n",
       "\t<tr><th scope=row>zone6</th><td>-0.0145853327</td><td>6.209647e-03 </td><td> -2.3488182  </td><td> 1.883809e-02</td></tr>\n",
       "\t<tr><th scope=row>zone7</th><td> 0.0976295877</td><td>4.919185e-03 </td><td> 19.8466986  </td><td> 3.193672e-87</td></tr>\n",
       "\t<tr><th scope=row>zone8</th><td>-0.0006374582</td><td>5.230107e-03 </td><td> -0.1218824  </td><td> 9.029928e-01</td></tr>\n",
       "\t<tr><th scope=row>zone9</th><td> 0.1042533097</td><td>4.995886e-03 </td><td> 20.8678328  </td><td> 3.551696e-96</td></tr>\n",
       "\t<tr><th scope=row>zone10</th><td> 0.0905224175</td><td>5.459601e-03 </td><td> 16.5804091  </td><td> 1.573721e-61</td></tr>\n",
       "\t<tr><th scope=row>zone11</th><td>-0.0382405083</td><td>5.684429e-03 </td><td> -6.7272384  </td><td> 1.753105e-11</td></tr>\n",
       "\t<tr><th scope=row>zone12</th><td>-0.0682483970</td><td>8.521647e-03 </td><td> -8.0088270  </td><td> 1.190138e-15</td></tr>\n",
       "\t<tr><th scope=row>zone13</th><td>-0.0577372792</td><td>8.874212e-03 </td><td> -6.5061863  </td><td> 7.801950e-11</td></tr>\n",
       "\t<tr><th scope=row>zone14</th><td> 0.0688308463</td><td>5.729508e-03 </td><td> 12.0133948  </td><td> 3.461229e-33</td></tr>\n",
       "\t<tr><th scope=row>zone15</th><td> 0.0900758542</td><td>5.600130e-03 </td><td> 16.0846011  </td><td> 5.043398e-58</td></tr>\n",
       "\t<tr><th scope=row>zone16</th><td> 0.0157151591</td><td>5.875063e-03 </td><td>  2.6748918  </td><td> 7.478471e-03</td></tr>\n",
       "\t<tr><th scope=row>zone17</th><td> 0.0401810718</td><td>8.570375e-03 </td><td>  4.6883677  </td><td> 2.763284e-06</td></tr>\n",
       "\t<tr><th scope=row>zone18</th><td> 0.0553822619</td><td>6.717934e-03 </td><td>  8.2439423  </td><td> 1.718062e-16</td></tr>\n",
       "</tbody>\n",
       "</table>\n"
      ],
      "text/latex": [
       "\\begin{tabular}{r|llll}\n",
       "  & Estimates & Stdard\\_err & Critical t-value & p-value\\\\\n",
       "\\hline\n",
       "\tintercept & 10.8530680316 & 1.695021e-02  & 640.2911914   &  0.000000e+00\\\\\n",
       "\tliving\\_area &  0.0003471583 & 1.721801e-06  & 201.6251104   &  0.000000e+00\\\\\n",
       "\tbaths &  0.0626320260 & 1.524372e-03  &  41.0871133   &  0.000000e+00\\\\\n",
       "\tage & -0.0003410053 & 7.694793e-05  &  -4.4316364   &  9.377665e-06\\\\\n",
       "\tfireplace &  0.0605583287 & 2.720061e-03  &  22.2635902   & 4.030293e-109\\\\\n",
       "\tgarage\\_area &  0.0002770006 & 4.449123e-06  &  62.2595899   &  0.000000e+00\\\\\n",
       "\tcondA &  0.3249225978 & 1.559455e-02  &  20.8356498   &  6.907293e-96\\\\\n",
       "\tcondB &  0.1796831430 & 1.514006e-02  &  11.8680609   &  1.973951e-32\\\\\n",
       "\tcondC &  0.0911120370 & 1.568567e-02  &   5.8086168   &  6.348196e-09\\\\\n",
       "\tlakedist & -0.0009250175 & 1.613781e-04  &  -5.7319878   &  9.999488e-09\\\\\n",
       "\tlog.lakedist & -0.0072070976 & 2.236131e-03  &  -3.2230205   &  1.269512e-03\\\\\n",
       "\tmedian\\_commute & -0.0006541168 & 1.644371e-04  &  -3.9779145   &  6.964853e-05\\\\\n",
       "\tzone1 &  0.4102650183 & 7.919479e-03  &  51.8045437   &  0.000000e+00\\\\\n",
       "\tzone2 &  0.1621889265 & 5.256962e-03  &  30.8522168   & 1.656915e-206\\\\\n",
       "\tzone3 & -0.1114095608 & 6.058664e-03  & -18.3884707   &  3.395765e-75\\\\\n",
       "\tzone4 &  0.0442188306 & 7.460667e-03  &   5.9269269   &  3.112589e-09\\\\\n",
       "\tzone5 &  0.1304865092 & 5.141606e-03  &  25.3785503   & 6.175523e-141\\\\\n",
       "\tzone6 & -0.0145853327 & 6.209647e-03  &  -2.3488182   &  1.883809e-02\\\\\n",
       "\tzone7 &  0.0976295877 & 4.919185e-03  &  19.8466986   &  3.193672e-87\\\\\n",
       "\tzone8 & -0.0006374582 & 5.230107e-03  &  -0.1218824   &  9.029928e-01\\\\\n",
       "\tzone9 &  0.1042533097 & 4.995886e-03  &  20.8678328   &  3.551696e-96\\\\\n",
       "\tzone10 &  0.0905224175 & 5.459601e-03  &  16.5804091   &  1.573721e-61\\\\\n",
       "\tzone11 & -0.0382405083 & 5.684429e-03  &  -6.7272384   &  1.753105e-11\\\\\n",
       "\tzone12 & -0.0682483970 & 8.521647e-03  &  -8.0088270   &  1.190138e-15\\\\\n",
       "\tzone13 & -0.0577372792 & 8.874212e-03  &  -6.5061863   &  7.801950e-11\\\\\n",
       "\tzone14 &  0.0688308463 & 5.729508e-03  &  12.0133948   &  3.461229e-33\\\\\n",
       "\tzone15 &  0.0900758542 & 5.600130e-03  &  16.0846011   &  5.043398e-58\\\\\n",
       "\tzone16 &  0.0157151591 & 5.875063e-03  &   2.6748918   &  7.478471e-03\\\\\n",
       "\tzone17 &  0.0401810718 & 8.570375e-03  &   4.6883677   &  2.763284e-06\\\\\n",
       "\tzone18 &  0.0553822619 & 6.717934e-03  &   8.2439423   &  1.718062e-16\\\\\n",
       "\\end{tabular}\n"
      ],
      "text/markdown": [
       "\n",
       "| <!--/--> | Estimates | Stdard_err | Critical t-value | p-value | \n",
       "|---|---|---|---|---|---|---|---|---|---|---|---|---|---|---|---|---|---|---|---|---|---|---|---|---|---|---|---|---|---|\n",
       "| intercept | 10.8530680316 | 1.695021e-02  | 640.2911914   |  0.000000e+00 | \n",
       "| living_area |  0.0003471583 | 1.721801e-06  | 201.6251104   |  0.000000e+00 | \n",
       "| baths |  0.0626320260 | 1.524372e-03  |  41.0871133   |  0.000000e+00 | \n",
       "| age | -0.0003410053 | 7.694793e-05  |  -4.4316364   |  9.377665e-06 | \n",
       "| fireplace |  0.0605583287 | 2.720061e-03  |  22.2635902   | 4.030293e-109 | \n",
       "| garage_area |  0.0002770006 | 4.449123e-06  |  62.2595899   |  0.000000e+00 | \n",
       "| condA |  0.3249225978 | 1.559455e-02  |  20.8356498   |  6.907293e-96 | \n",
       "| condB |  0.1796831430 | 1.514006e-02  |  11.8680609   |  1.973951e-32 | \n",
       "| condC |  0.0911120370 | 1.568567e-02  |   5.8086168   |  6.348196e-09 | \n",
       "| lakedist | -0.0009250175 | 1.613781e-04  |  -5.7319878   |  9.999488e-09 | \n",
       "| log.lakedist | -0.0072070976 | 2.236131e-03  |  -3.2230205   |  1.269512e-03 | \n",
       "| median_commute | -0.0006541168 | 1.644371e-04  |  -3.9779145   |  6.964853e-05 | \n",
       "| zone1 |  0.4102650183 | 7.919479e-03  |  51.8045437   |  0.000000e+00 | \n",
       "| zone2 |  0.1621889265 | 5.256962e-03  |  30.8522168   | 1.656915e-206 | \n",
       "| zone3 | -0.1114095608 | 6.058664e-03  | -18.3884707   |  3.395765e-75 | \n",
       "| zone4 |  0.0442188306 | 7.460667e-03  |   5.9269269   |  3.112589e-09 | \n",
       "| zone5 |  0.1304865092 | 5.141606e-03  |  25.3785503   | 6.175523e-141 | \n",
       "| zone6 | -0.0145853327 | 6.209647e-03  |  -2.3488182   |  1.883809e-02 | \n",
       "| zone7 |  0.0976295877 | 4.919185e-03  |  19.8466986   |  3.193672e-87 | \n",
       "| zone8 | -0.0006374582 | 5.230107e-03  |  -0.1218824   |  9.029928e-01 | \n",
       "| zone9 |  0.1042533097 | 4.995886e-03  |  20.8678328   |  3.551696e-96 | \n",
       "| zone10 |  0.0905224175 | 5.459601e-03  |  16.5804091   |  1.573721e-61 | \n",
       "| zone11 | -0.0382405083 | 5.684429e-03  |  -6.7272384   |  1.753105e-11 | \n",
       "| zone12 | -0.0682483970 | 8.521647e-03  |  -8.0088270   |  1.190138e-15 | \n",
       "| zone13 | -0.0577372792 | 8.874212e-03  |  -6.5061863   |  7.801950e-11 | \n",
       "| zone14 |  0.0688308463 | 5.729508e-03  |  12.0133948   |  3.461229e-33 | \n",
       "| zone15 |  0.0900758542 | 5.600130e-03  |  16.0846011   |  5.043398e-58 | \n",
       "| zone16 |  0.0157151591 | 5.875063e-03  |   2.6748918   |  7.478471e-03 | \n",
       "| zone17 |  0.0401810718 | 8.570375e-03  |   4.6883677   |  2.763284e-06 | \n",
       "| zone18 |  0.0553822619 | 6.717934e-03  |   8.2439423   |  1.718062e-16 | \n",
       "\n",
       "\n"
      ],
      "text/plain": [
       "               Estimates     Stdard_err   Critical t-value p-value      \n",
       "intercept      10.8530680316 1.695021e-02 640.2911914       0.000000e+00\n",
       "living_area     0.0003471583 1.721801e-06 201.6251104       0.000000e+00\n",
       "baths           0.0626320260 1.524372e-03  41.0871133       0.000000e+00\n",
       "age            -0.0003410053 7.694793e-05  -4.4316364       9.377665e-06\n",
       "fireplace       0.0605583287 2.720061e-03  22.2635902      4.030293e-109\n",
       "garage_area     0.0002770006 4.449123e-06  62.2595899       0.000000e+00\n",
       "condA           0.3249225978 1.559455e-02  20.8356498       6.907293e-96\n",
       "condB           0.1796831430 1.514006e-02  11.8680609       1.973951e-32\n",
       "condC           0.0911120370 1.568567e-02   5.8086168       6.348196e-09\n",
       "lakedist       -0.0009250175 1.613781e-04  -5.7319878       9.999488e-09\n",
       "log.lakedist   -0.0072070976 2.236131e-03  -3.2230205       1.269512e-03\n",
       "median_commute -0.0006541168 1.644371e-04  -3.9779145       6.964853e-05\n",
       "zone1           0.4102650183 7.919479e-03  51.8045437       0.000000e+00\n",
       "zone2           0.1621889265 5.256962e-03  30.8522168      1.656915e-206\n",
       "zone3          -0.1114095608 6.058664e-03 -18.3884707       3.395765e-75\n",
       "zone4           0.0442188306 7.460667e-03   5.9269269       3.112589e-09\n",
       "zone5           0.1304865092 5.141606e-03  25.3785503      6.175523e-141\n",
       "zone6          -0.0145853327 6.209647e-03  -2.3488182       1.883809e-02\n",
       "zone7           0.0976295877 4.919185e-03  19.8466986       3.193672e-87\n",
       "zone8          -0.0006374582 5.230107e-03  -0.1218824       9.029928e-01\n",
       "zone9           0.1042533097 4.995886e-03  20.8678328       3.551696e-96\n",
       "zone10          0.0905224175 5.459601e-03  16.5804091       1.573721e-61\n",
       "zone11         -0.0382405083 5.684429e-03  -6.7272384       1.753105e-11\n",
       "zone12         -0.0682483970 8.521647e-03  -8.0088270       1.190138e-15\n",
       "zone13         -0.0577372792 8.874212e-03  -6.5061863       7.801950e-11\n",
       "zone14          0.0688308463 5.729508e-03  12.0133948       3.461229e-33\n",
       "zone15          0.0900758542 5.600130e-03  16.0846011       5.043398e-58\n",
       "zone16          0.0157151591 5.875063e-03   2.6748918       7.478471e-03\n",
       "zone17          0.0401810718 8.570375e-03   4.6883677       2.763284e-06\n",
       "zone18          0.0553822619 6.717934e-03   8.2439423       1.718062e-16"
      ]
     },
     "metadata": {},
     "output_type": "display_data"
    },
    {
     "name": "stdout",
     "output_type": "stream",
     "text": [
      "[1] \"Implicit price for lake access= -318.003404896892\"\n"
     ]
    }
   ],
   "source": [
    "x4<-as.matrix(cbind(intercept,living_area,baths,age,fireplace,garage_area,condA,condB,condC,lakedist,log.lakedist,\n",
    "                    median_commute,zone1,zone2,zone3,zone4,zone5,zone6,zone7,zone8,zone9,zone10,zone11,zone12,zone13,\n",
    "                    zone14,zone15,zone16,zone17,zone18))\n",
    "y<-lprice\n",
    "beta<-solve(t(x4)%*%x4)%*%(t(x4)%*%y)\n",
    "res<-y-x4%*%beta\n",
    "s2hat<-as.numeric((t(res)%*%res)/(length(res)-dim(x4)[2]))\n",
    "cov.mat<-s2hat[1]*solve(t(x4)%*%x4)\n",
    "std.err<-sqrt(diag(cov.mat))\n",
    "tval<-beta/std.err\n",
    "names(tval)=\"tval\"\n",
    "pval<-2*pt(-abs(tval),length(res)-dim(x4)[2])\n",
    "summ.mod<-data.frame(cbind(beta,std.err,tval,pval))\n",
    "names(summ.mod)<-c(\"Estimates\",\"Stdard_err\",\"Critical t-value\",\"p-value\")\n",
    "summ.mod\n",
    "imp_pr4<-mean(beta[10]*price)+mean(beta[11]*(price/lakedist))\n",
    "print(paste0(\"Implicit price for lake access= \",imp_pr4))"
   ]
  },
  {
   "cell_type": "markdown",
   "metadata": {},
   "source": [
    "Adding spatial fixed effects into the model decreases the implicit price for lake access to -318. This is because, as the spatial effects comes into terms, the implicit price for distance from lake gets less weight for determinig the price."
   ]
  },
  {
   "cell_type": "code",
   "execution_count": 22,
   "metadata": {},
   "outputs": [
    {
     "data": {
      "text/html": [
       "<table>\n",
       "<thead><tr><th></th><th scope=col>Estimates</th><th scope=col>Stdard_err</th><th scope=col>Critical t-value</th><th scope=col>p-value</th></tr></thead>\n",
       "<tbody>\n",
       "\t<tr><th scope=row>intercept</th><td>10.8358151957</td><td>1.659372e-02 </td><td>653.00718106 </td><td> 0.000000e+00</td></tr>\n",
       "\t<tr><th scope=row>living_area</th><td> 0.0003470991</td><td>1.721298e-06 </td><td>201.64957756 </td><td> 0.000000e+00</td></tr>\n",
       "\t<tr><th scope=row>baths</th><td> 0.0625642862</td><td>1.523126e-03 </td><td> 41.07624145 </td><td> 0.000000e+00</td></tr>\n",
       "\t<tr><th scope=row>age</th><td>-0.0003420749</td><td>7.693330e-05 </td><td> -4.44638298 </td><td> 8.757032e-06</td></tr>\n",
       "\t<tr><th scope=row>fireplace</th><td> 0.0606599754</td><td>2.719690e-03 </td><td> 22.30400385 </td><td>1.653460e-109</td></tr>\n",
       "\t<tr><th scope=row>garage_area</th><td> 0.0002767109</td><td>4.449269e-06 </td><td> 62.19243737 </td><td> 0.000000e+00</td></tr>\n",
       "\t<tr><th scope=row>condA</th><td> 0.3251114893</td><td>1.559239e-02 </td><td> 20.85065792 </td><td> 5.065823e-96</td></tr>\n",
       "\t<tr><th scope=row>condB</th><td> 0.1797490673</td><td>1.513781e-02 </td><td> 11.87417527 </td><td> 1.835302e-32</td></tr>\n",
       "\t<tr><th scope=row>condC</th><td> 0.0910854309</td><td>1.568344e-02 </td><td>  5.80774569 </td><td> 6.381275e-09</td></tr>\n",
       "\t<tr><th scope=row>lakedist</th><td>-0.0011468380</td><td>9.477545e-05 </td><td>-12.10058113 </td><td> 1.205912e-33</td></tr>\n",
       "\t<tr><th scope=row>tr_dist</th><td> 0.0282091396</td><td>6.118021e-03 </td><td>  4.61082768 </td><td> 4.023469e-06</td></tr>\n",
       "\t<tr><th scope=row>median_commute</th><td>-0.0006535987</td><td>1.643499e-04 </td><td> -3.97687301 </td><td> 6.995403e-05</td></tr>\n",
       "\t<tr><th scope=row>zone1</th><td> 0.4107517457</td><td>7.916657e-03 </td><td> 51.88449674 </td><td> 0.000000e+00</td></tr>\n",
       "\t<tr><th scope=row>zone2</th><td> 0.1629320201</td><td>5.251180e-03 </td><td> 31.02769912 </td><td>8.236268e-209</td></tr>\n",
       "\t<tr><th scope=row>zone3</th><td>-0.1110789631</td><td>6.051718e-03 </td><td>-18.35494657 </td><td> 6.264569e-75</td></tr>\n",
       "\t<tr><th scope=row>zone4</th><td> 0.0447934702</td><td>7.451147e-03 </td><td>  6.01162083 </td><td> 1.853146e-09</td></tr>\n",
       "\t<tr><th scope=row>zone5</th><td> 0.1312416534</td><td>5.142080e-03 </td><td> 25.52306843 </td><td>1.648594e-142</td></tr>\n",
       "\t<tr><th scope=row>zone6</th><td>-0.0145276117</td><td>6.208116e-03 </td><td> -2.34009979 </td><td> 1.928363e-02</td></tr>\n",
       "\t<tr><th scope=row>zone7</th><td> 0.0981901130</td><td>4.913106e-03 </td><td> 19.98534459 </td><td> 2.061791e-88</td></tr>\n",
       "\t<tr><th scope=row>zone8</th><td>-0.0003136995</td><td>5.227050e-03 </td><td> -0.06001465 </td><td> 9.521443e-01</td></tr>\n",
       "\t<tr><th scope=row>zone9</th><td> 0.1046409542</td><td>4.996498e-03 </td><td> 20.94285970 </td><td> 7.504406e-97</td></tr>\n",
       "\t<tr><th scope=row>zone10</th><td> 0.0913687563</td><td>5.462573e-03 </td><td> 16.72632138 </td><td> 1.397538e-62</td></tr>\n",
       "\t<tr><th scope=row>zone11</th><td>-0.0380397253</td><td>5.683915e-03 </td><td> -6.69252170 </td><td> 2.223368e-11</td></tr>\n",
       "\t<tr><th scope=row>zone12</th><td>-0.0678769138</td><td>8.520989e-03 </td><td> -7.96584925 </td><td> 1.685392e-15</td></tr>\n",
       "\t<tr><th scope=row>zone13</th><td>-0.0576837220</td><td>8.869774e-03 </td><td> -6.50340392 </td><td> 7.947536e-11</td></tr>\n",
       "\t<tr><th scope=row>zone14</th><td> 0.0696165414</td><td>5.731268e-03 </td><td> 12.14679666 </td><td> 6.874967e-34</td></tr>\n",
       "\t<tr><th scope=row>zone15</th><td> 0.0902582818</td><td>5.586193e-03 </td><td> 16.15738723 </td><td> 1.565264e-58</td></tr>\n",
       "\t<tr><th scope=row>zone16</th><td> 0.0157067697</td><td>5.872107e-03 </td><td>  2.67480991 </td><td> 7.480299e-03</td></tr>\n",
       "\t<tr><th scope=row>zone17</th><td> 0.0406750515</td><td>8.569503e-03 </td><td>  4.74648895 </td><td> 2.077153e-06</td></tr>\n",
       "\t<tr><th scope=row>zone18</th><td> 0.0558871807</td><td>6.656295e-03 </td><td>  8.39613942 </td><td> 4.768276e-17</td></tr>\n",
       "</tbody>\n",
       "</table>\n"
      ],
      "text/latex": [
       "\\begin{tabular}{r|llll}\n",
       "  & Estimates & Stdard\\_err & Critical t-value & p-value\\\\\n",
       "\\hline\n",
       "\tintercept & 10.8358151957 & 1.659372e-02  & 653.00718106  &  0.000000e+00\\\\\n",
       "\tliving\\_area &  0.0003470991 & 1.721298e-06  & 201.64957756  &  0.000000e+00\\\\\n",
       "\tbaths &  0.0625642862 & 1.523126e-03  &  41.07624145  &  0.000000e+00\\\\\n",
       "\tage & -0.0003420749 & 7.693330e-05  &  -4.44638298  &  8.757032e-06\\\\\n",
       "\tfireplace &  0.0606599754 & 2.719690e-03  &  22.30400385  & 1.653460e-109\\\\\n",
       "\tgarage\\_area &  0.0002767109 & 4.449269e-06  &  62.19243737  &  0.000000e+00\\\\\n",
       "\tcondA &  0.3251114893 & 1.559239e-02  &  20.85065792  &  5.065823e-96\\\\\n",
       "\tcondB &  0.1797490673 & 1.513781e-02  &  11.87417527  &  1.835302e-32\\\\\n",
       "\tcondC &  0.0910854309 & 1.568344e-02  &   5.80774569  &  6.381275e-09\\\\\n",
       "\tlakedist & -0.0011468380 & 9.477545e-05  & -12.10058113  &  1.205912e-33\\\\\n",
       "\ttr\\_dist &  0.0282091396 & 6.118021e-03  &   4.61082768  &  4.023469e-06\\\\\n",
       "\tmedian\\_commute & -0.0006535987 & 1.643499e-04  &  -3.97687301  &  6.995403e-05\\\\\n",
       "\tzone1 &  0.4107517457 & 7.916657e-03  &  51.88449674  &  0.000000e+00\\\\\n",
       "\tzone2 &  0.1629320201 & 5.251180e-03  &  31.02769912  & 8.236268e-209\\\\\n",
       "\tzone3 & -0.1110789631 & 6.051718e-03  & -18.35494657  &  6.264569e-75\\\\\n",
       "\tzone4 &  0.0447934702 & 7.451147e-03  &   6.01162083  &  1.853146e-09\\\\\n",
       "\tzone5 &  0.1312416534 & 5.142080e-03  &  25.52306843  & 1.648594e-142\\\\\n",
       "\tzone6 & -0.0145276117 & 6.208116e-03  &  -2.34009979  &  1.928363e-02\\\\\n",
       "\tzone7 &  0.0981901130 & 4.913106e-03  &  19.98534459  &  2.061791e-88\\\\\n",
       "\tzone8 & -0.0003136995 & 5.227050e-03  &  -0.06001465  &  9.521443e-01\\\\\n",
       "\tzone9 &  0.1046409542 & 4.996498e-03  &  20.94285970  &  7.504406e-97\\\\\n",
       "\tzone10 &  0.0913687563 & 5.462573e-03  &  16.72632138  &  1.397538e-62\\\\\n",
       "\tzone11 & -0.0380397253 & 5.683915e-03  &  -6.69252170  &  2.223368e-11\\\\\n",
       "\tzone12 & -0.0678769138 & 8.520989e-03  &  -7.96584925  &  1.685392e-15\\\\\n",
       "\tzone13 & -0.0576837220 & 8.869774e-03  &  -6.50340392  &  7.947536e-11\\\\\n",
       "\tzone14 &  0.0696165414 & 5.731268e-03  &  12.14679666  &  6.874967e-34\\\\\n",
       "\tzone15 &  0.0902582818 & 5.586193e-03  &  16.15738723  &  1.565264e-58\\\\\n",
       "\tzone16 &  0.0157067697 & 5.872107e-03  &   2.67480991  &  7.480299e-03\\\\\n",
       "\tzone17 &  0.0406750515 & 8.569503e-03  &   4.74648895  &  2.077153e-06\\\\\n",
       "\tzone18 &  0.0558871807 & 6.656295e-03  &   8.39613942  &  4.768276e-17\\\\\n",
       "\\end{tabular}\n"
      ],
      "text/markdown": [
       "\n",
       "| <!--/--> | Estimates | Stdard_err | Critical t-value | p-value | \n",
       "|---|---|---|---|---|---|---|---|---|---|---|---|---|---|---|---|---|---|---|---|---|---|---|---|---|---|---|---|---|---|\n",
       "| intercept | 10.8358151957 | 1.659372e-02  | 653.00718106  |  0.000000e+00 | \n",
       "| living_area |  0.0003470991 | 1.721298e-06  | 201.64957756  |  0.000000e+00 | \n",
       "| baths |  0.0625642862 | 1.523126e-03  |  41.07624145  |  0.000000e+00 | \n",
       "| age | -0.0003420749 | 7.693330e-05  |  -4.44638298  |  8.757032e-06 | \n",
       "| fireplace |  0.0606599754 | 2.719690e-03  |  22.30400385  | 1.653460e-109 | \n",
       "| garage_area |  0.0002767109 | 4.449269e-06  |  62.19243737  |  0.000000e+00 | \n",
       "| condA |  0.3251114893 | 1.559239e-02  |  20.85065792  |  5.065823e-96 | \n",
       "| condB |  0.1797490673 | 1.513781e-02  |  11.87417527  |  1.835302e-32 | \n",
       "| condC |  0.0910854309 | 1.568344e-02  |   5.80774569  |  6.381275e-09 | \n",
       "| lakedist | -0.0011468380 | 9.477545e-05  | -12.10058113  |  1.205912e-33 | \n",
       "| tr_dist |  0.0282091396 | 6.118021e-03  |   4.61082768  |  4.023469e-06 | \n",
       "| median_commute | -0.0006535987 | 1.643499e-04  |  -3.97687301  |  6.995403e-05 | \n",
       "| zone1 |  0.4107517457 | 7.916657e-03  |  51.88449674  |  0.000000e+00 | \n",
       "| zone2 |  0.1629320201 | 5.251180e-03  |  31.02769912  | 8.236268e-209 | \n",
       "| zone3 | -0.1110789631 | 6.051718e-03  | -18.35494657  |  6.264569e-75 | \n",
       "| zone4 |  0.0447934702 | 7.451147e-03  |   6.01162083  |  1.853146e-09 | \n",
       "| zone5 |  0.1312416534 | 5.142080e-03  |  25.52306843  | 1.648594e-142 | \n",
       "| zone6 | -0.0145276117 | 6.208116e-03  |  -2.34009979  |  1.928363e-02 | \n",
       "| zone7 |  0.0981901130 | 4.913106e-03  |  19.98534459  |  2.061791e-88 | \n",
       "| zone8 | -0.0003136995 | 5.227050e-03  |  -0.06001465  |  9.521443e-01 | \n",
       "| zone9 |  0.1046409542 | 4.996498e-03  |  20.94285970  |  7.504406e-97 | \n",
       "| zone10 |  0.0913687563 | 5.462573e-03  |  16.72632138  |  1.397538e-62 | \n",
       "| zone11 | -0.0380397253 | 5.683915e-03  |  -6.69252170  |  2.223368e-11 | \n",
       "| zone12 | -0.0678769138 | 8.520989e-03  |  -7.96584925  |  1.685392e-15 | \n",
       "| zone13 | -0.0576837220 | 8.869774e-03  |  -6.50340392  |  7.947536e-11 | \n",
       "| zone14 |  0.0696165414 | 5.731268e-03  |  12.14679666  |  6.874967e-34 | \n",
       "| zone15 |  0.0902582818 | 5.586193e-03  |  16.15738723  |  1.565264e-58 | \n",
       "| zone16 |  0.0157067697 | 5.872107e-03  |   2.67480991  |  7.480299e-03 | \n",
       "| zone17 |  0.0406750515 | 8.569503e-03  |   4.74648895  |  2.077153e-06 | \n",
       "| zone18 |  0.0558871807 | 6.656295e-03  |   8.39613942  |  4.768276e-17 | \n",
       "\n",
       "\n"
      ],
      "text/plain": [
       "               Estimates     Stdard_err   Critical t-value p-value      \n",
       "intercept      10.8358151957 1.659372e-02 653.00718106      0.000000e+00\n",
       "living_area     0.0003470991 1.721298e-06 201.64957756      0.000000e+00\n",
       "baths           0.0625642862 1.523126e-03  41.07624145      0.000000e+00\n",
       "age            -0.0003420749 7.693330e-05  -4.44638298      8.757032e-06\n",
       "fireplace       0.0606599754 2.719690e-03  22.30400385     1.653460e-109\n",
       "garage_area     0.0002767109 4.449269e-06  62.19243737      0.000000e+00\n",
       "condA           0.3251114893 1.559239e-02  20.85065792      5.065823e-96\n",
       "condB           0.1797490673 1.513781e-02  11.87417527      1.835302e-32\n",
       "condC           0.0910854309 1.568344e-02   5.80774569      6.381275e-09\n",
       "lakedist       -0.0011468380 9.477545e-05 -12.10058113      1.205912e-33\n",
       "tr_dist         0.0282091396 6.118021e-03   4.61082768      4.023469e-06\n",
       "median_commute -0.0006535987 1.643499e-04  -3.97687301      6.995403e-05\n",
       "zone1           0.4107517457 7.916657e-03  51.88449674      0.000000e+00\n",
       "zone2           0.1629320201 5.251180e-03  31.02769912     8.236268e-209\n",
       "zone3          -0.1110789631 6.051718e-03 -18.35494657      6.264569e-75\n",
       "zone4           0.0447934702 7.451147e-03   6.01162083      1.853146e-09\n",
       "zone5           0.1312416534 5.142080e-03  25.52306843     1.648594e-142\n",
       "zone6          -0.0145276117 6.208116e-03  -2.34009979      1.928363e-02\n",
       "zone7           0.0981901130 4.913106e-03  19.98534459      2.061791e-88\n",
       "zone8          -0.0003136995 5.227050e-03  -0.06001465      9.521443e-01\n",
       "zone9           0.1046409542 4.996498e-03  20.94285970      7.504406e-97\n",
       "zone10          0.0913687563 5.462573e-03  16.72632138      1.397538e-62\n",
       "zone11         -0.0380397253 5.683915e-03  -6.69252170      2.223368e-11\n",
       "zone12         -0.0678769138 8.520989e-03  -7.96584925      1.685392e-15\n",
       "zone13         -0.0576837220 8.869774e-03  -6.50340392      7.947536e-11\n",
       "zone14          0.0696165414 5.731268e-03  12.14679666      6.874967e-34\n",
       "zone15          0.0902582818 5.586193e-03  16.15738723      1.565264e-58\n",
       "zone16          0.0157067697 5.872107e-03   2.67480991      7.480299e-03\n",
       "zone17          0.0406750515 8.569503e-03   4.74648895      2.077153e-06\n",
       "zone18          0.0558871807 6.656295e-03   8.39613942      4.768276e-17"
      ]
     },
     "metadata": {},
     "output_type": "display_data"
    }
   ],
   "source": [
    "tr_dist<-c()\n",
    "for (i in 1:length(y)){\n",
    "    tr_dist[i]<-max(1-(lakedist[i]/10)^0.5,0)}\n",
    "x5<-as.matrix(cbind(intercept,living_area,baths,age,fireplace,garage_area,condA,condB,condC,lakedist,tr_dist,median_commute,\n",
    "                    zone1,zone2,zone3,zone4,zone5,zone6,zone7,zone8,zone9,zone10,zone11,zone12,zone13,\n",
    "                    zone14,zone15,zone16,zone17,zone18))\n",
    "y<-lprice\n",
    "beta<-solve(t(x5)%*%x5)%*%(t(x5)%*%y)\n",
    "res<-y-x5%*%beta\n",
    "s2hat<-as.numeric((t(res)%*%res)/(length(res)-dim(x5)[2]))\n",
    "cov.mat<-s2hat[1]*solve(t(x5)%*%x5)\n",
    "std.err<-sqrt(diag(cov.mat))\n",
    "tval<-beta/std.err\n",
    "names(tval)=\"tval\"\n",
    "pval<-2*pt(-abs(tval),length(res)-dim(x5)[2])\n",
    "summ.mod<-data.frame(cbind(beta,std.err,tval,pval))\n",
    "names(summ.mod)<-c(\"Estimates\",\"Stdard_err\",\"Critical t-value\",\"p-value\")\n",
    "summ.mod"
   ]
  },
  {
   "cell_type": "code",
   "execution_count": 15,
   "metadata": {},
   "outputs": [
    {
     "name": "stdout",
     "output_type": "stream",
     "text": [
      "[1] \"Implicit price for lake access= -241.820848000303\"\n"
     ]
    }
   ],
   "source": [
    "imp_p5<-c()\n",
    "for (i in 1:length(y)){\n",
    "    if (tr_dist[i]==0)imp_p5[i]=price[i]*beta[10]\n",
    "    else imp_p5[i]=price[i]*beta[10]-((price[i]*beta[10])/(2*sqrt(10)*sqrt(lakedist[i])))\n",
    "}\n",
    "imp_pr5<-mean(imp_p5)\n",
    "print(paste0(\"Implicit price for lake access= \",imp_pr5))"
   ]
  },
  {
   "cell_type": "markdown",
   "metadata": {},
   "source": [
    "However, the non-linear transformation actually tries to rectify the intensity of spatial effect in determinig the price. It shows that although the implicit price of distance from lake decreases when we add spatial effects, the intensity of that decline is a lot smaller in the case of non-linear transformation than the case of log-transformation. "
   ]
  }
 ],
 "metadata": {
  "kernelspec": {
   "display_name": "R",
   "language": "R",
   "name": "ir"
  },
  "language_info": {
   "codemirror_mode": "r",
   "file_extension": ".r",
   "mimetype": "text/x-r-source",
   "name": "R",
   "pygments_lexer": "r",
   "version": "3.4.3"
  }
 },
 "nbformat": 4,
 "nbformat_minor": 2
}
